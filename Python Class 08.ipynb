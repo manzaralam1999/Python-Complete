{
 "cells": [
  {
   "cell_type": "markdown",
   "metadata": {},
   "source": [
    "# Python Class 08"
   ]
  },
  {
   "cell_type": "code",
   "execution_count": 1,
   "metadata": {},
   "outputs": [
    {
     "data": {
      "text/plain": [
       "'audi'"
      ]
     },
     "execution_count": 1,
     "metadata": {},
     "output_type": "execute_result"
    }
   ],
   "source": [
    "# class and object only last object will show as output\n",
    "# inside the class we make methods by using def\n",
    "\n",
    "class car():\n",
    "    def __init__(self,name,model,color):\n",
    "        self.name = name\n",
    "        self.model = model\n",
    "        self.color = color\n",
    "        \n",
    "car1 = car('audi','A3','black')\n",
    "\n",
    "car1.name"
   ]
  },
  {
   "cell_type": "code",
   "execution_count": 2,
   "metadata": {},
   "outputs": [
    {
     "name": "stdout",
     "output_type": "stream",
     "text": [
      "13 kilometers per liter\n"
     ]
    }
   ],
   "source": [
    "# initialize vale at the end\n",
    "\n",
    "class car():\n",
    "    def __init__(self,name,model,color):\n",
    "        self.name = name\n",
    "        self.model = model\n",
    "        self.color = color\n",
    "        \n",
    "    def average(self,kilo):\n",
    "        print(\"{} kilometers per liter\".format(kilo))\n",
    "        \n",
    "car1 = car('audi','A3','black')\n",
    "\n",
    "car1.name\n",
    "car1.average(13)"
   ]
  },
  {
   "cell_type": "code",
   "execution_count": 3,
   "metadata": {},
   "outputs": [
    {
     "name": "stdout",
     "output_type": "stream",
     "text": [
      "13 kilometers per liter\n",
      "Yes\n"
     ]
    }
   ],
   "source": [
    "# initialize value under the function\n",
    "\n",
    "class car():\n",
    "    def __init__(self,name,model,color):\n",
    "        self.name = name\n",
    "        self.model = model\n",
    "        self.color = color\n",
    "        \n",
    "    def average(self,kilo):\n",
    "        print(\"{} kilometers per liter\".format(kilo))\n",
    "        \n",
    "    def tank(self):\n",
    "        print(\"Yes\")\n",
    "        \n",
    "car1 = car('audi','A3','black')\n",
    "\n",
    "car1.name\n",
    "car1.average(13)\n",
    "car1.tank()"
   ]
  },
  {
   "cell_type": "code",
   "execution_count": 4,
   "metadata": {},
   "outputs": [
    {
     "name": "stdout",
     "output_type": "stream",
     "text": [
      "Yes\n",
      "20 kilometers per liter\n",
      "13 kilometers per liter\n",
      "Yes\n"
     ]
    }
   ],
   "source": [
    "# Inheritance\n",
    "\n",
    "class car():\n",
    "    def __init__(self,name,model,color):\n",
    "        self.name = name\n",
    "        self.model = model\n",
    "        self.color = color\n",
    "        \n",
    "    def average(self,kilo):\n",
    "        print(\"{} kilometers per liter\".format(kilo))\n",
    "        \n",
    "    def tank(self):\n",
    "        print(\"Yes\")\n",
    "        \n",
    "class Electric_car(car): # we made this class as a child of car\n",
    "    def __init__(self,name,model,color):\n",
    "        super().__init__(name,model,color) # with the help of this line we made child\n",
    "        \n",
    "car1 = car('audi','A3','black')\n",
    "\n",
    "new_car = Electric_car('audi','A8','brown')\n",
    "\n",
    "new_car.tank() # by default parent class tank will be run\n",
    "new_car.average(20)\n",
    "\n",
    "car1.name\n",
    "car1.average(13)\n",
    "car1.tank()"
   ]
  },
  {
   "cell_type": "code",
   "execution_count": 5,
   "metadata": {},
   "outputs": [
    {
     "name": "stdout",
     "output_type": "stream",
     "text": [
      "No\n",
      "20 kilometers per liter\n",
      "The car name is audi, Model of car is A8 and color is brown\n",
      "13 kilometers per liter\n",
      "Yes\n"
     ]
    }
   ],
   "source": [
    "# inheritance and changing attributes of parent clas in child class\n",
    "# print child class methond\n",
    "\n",
    "class car():\n",
    "    def __init__(self,name,model,color):\n",
    "        self.name = name\n",
    "        self.model = model\n",
    "        self.color = color\n",
    "        \n",
    "    def average(self,kilo):\n",
    "        print(\"{} kilometers per liter\".format(kilo))\n",
    "        \n",
    "    def tank(self):\n",
    "        print(\"Yes\")\n",
    "        \n",
    "class Electric_car(car): # we made this class as a child of car\n",
    "    def __init__(self,name,model,color):\n",
    "        super().__init__(name,model,color) # with the help of this line we made child\n",
    "        \n",
    "    def tank(self):\n",
    "        print(\"No\")\n",
    "        \n",
    "    def get_description(self): # this is only child class method\n",
    "        print(\"The car name is {}, Model of car is {} and color is {}\".format(self.name,self.model,self.color))\n",
    "        \n",
    "car1 = car('audi','A3','black')\n",
    "\n",
    "new_car = Electric_car('audi','A8','brown')\n",
    "\n",
    "new_car.tank()\n",
    "new_car.average(20)\n",
    "new_car.get_description()\n",
    "\n",
    "car1.name\n",
    "car1.average(13)\n",
    "car1.tank()"
   ]
  },
  {
   "cell_type": "code",
   "execution_count": 6,
   "metadata": {},
   "outputs": [
    {
     "name": "stdout",
     "output_type": "stream",
     "text": [
      "30 kilometers per liter\n"
     ]
    }
   ],
   "source": [
    "# Encapsulation is used security purpose \n",
    "# Encapsulation can't be changed outside class\n",
    "# No one can change directly (__)attributes\n",
    "# we can only change (__)attributes by making new method\n",
    "\n",
    "class NewCar():\n",
    "    def __init__(self):\n",
    "        self.__maxAverage = 30\n",
    "        \n",
    "    def average(self):\n",
    "        print(\"{} kilometers per liter\".format(self.__maxAverage))\n",
    "        \n",
    "obj = NewCar()\n",
    "\n",
    "obj.average()"
   ]
  },
  {
   "cell_type": "code",
   "execution_count": 7,
   "metadata": {},
   "outputs": [
    {
     "name": "stdout",
     "output_type": "stream",
     "text": [
      "No\n",
      "20 kilometers per liter\n",
      "The car name is audi, Model of car is A8 and color is brown\n"
     ]
    },
    {
     "data": {
      "text/plain": [
       "'mercedes'"
      ]
     },
     "execution_count": 7,
     "metadata": {},
     "output_type": "execute_result"
    }
   ],
   "source": [
    "# overwrite directly\n",
    "\n",
    "class car():\n",
    "    def __init__(self,name,model,color):\n",
    "        self.name = name\n",
    "        self.model = model\n",
    "        self.color = color\n",
    "        \n",
    "    def average(self,kilo):\n",
    "        print(\"{} kilometers per liter\".format(kilo))\n",
    "        \n",
    "    def tank(self):\n",
    "        print(\"Yes\")\n",
    "        \n",
    "class Electric_car(car): # we made this class as a child of car\n",
    "    def __init__(self,name,model,color):\n",
    "        super().__init__(name,model,color) # with the help of this line we made child\n",
    "        \n",
    "    def tank(self):\n",
    "        print(\"No\")\n",
    "        \n",
    "    def get_description(self): # this is only child class method\n",
    "        print(\"The car name is {}, Model of car is {} and color is {}\".format(self.name,self.model,self.color))\n",
    "        \n",
    "car1 = car('audi','A3','black')\n",
    "\n",
    "new_car = Electric_car('audi','A8','brown')\n",
    "\n",
    "new_car.tank()\n",
    "new_car.average(20)\n",
    "new_car.get_description()\n",
    "\n",
    "car1.name = 'mercedes'\n",
    "car1.name"
   ]
  },
  {
   "cell_type": "code",
   "execution_count": 8,
   "metadata": {},
   "outputs": [
    {
     "name": "stdout",
     "output_type": "stream",
     "text": [
      "30 kilometers per liter\n",
      "30 kilometers per liter\n"
     ]
    }
   ],
   "source": [
    "# We cant update encapsulation directly\n",
    "\n",
    "class NewCar():\n",
    "    def __init__(self):\n",
    "        self.__maxAverage = 30\n",
    "        \n",
    "    def average(self):\n",
    "        print(\"{} kilometers per liter\".format(self.__maxAverage))\n",
    "        \n",
    "obj = NewCar()\n",
    "\n",
    "obj.average()\n",
    "\n",
    "obj.__maxAverage = 60\n",
    "\n",
    "obj.average()"
   ]
  },
  {
   "cell_type": "code",
   "execution_count": 9,
   "metadata": {},
   "outputs": [
    {
     "name": "stdout",
     "output_type": "stream",
     "text": [
      "30 kilometers per liter\n",
      "30 kilometers per liter\n",
      "35 kilometers per liter\n"
     ]
    }
   ],
   "source": [
    "# we can change Public easily\n",
    "# Protected can be changedd by child class\n",
    "# we can change private under the class only\n",
    "# Changing in encapsulation value by making new methodas inside the class\n",
    "# In other word overwrite by making new methods inside the class\n",
    "\n",
    "class NewCar():\n",
    "    def __init__(self):\n",
    "        self.__maxAverage = 30\n",
    "        \n",
    "    def average(self):\n",
    "        print(\"{} kilometers per liter\".format(self.__maxAverage))\n",
    "        \n",
    "    def updateAverage(self,updated_value):\n",
    "        self.__maxAverage = updated_value\n",
    "        \n",
    "obj = NewCar()\n",
    "\n",
    "obj.average()\n",
    "\n",
    "obj.__maxAverage = 60\n",
    "\n",
    "obj.average()\n",
    "\n",
    "obj.updateAverage(35)\n",
    "\n",
    "obj.average()"
   ]
  },
  {
   "cell_type": "code",
   "execution_count": 10,
   "metadata": {},
   "outputs": [
    {
     "name": "stdout",
     "output_type": "stream",
     "text": [
      "The Capital of Pakistan is Islamabad and the population of Pakistan is 20 crores\n",
      "The Capital of USA is Washington DC and the population of USA is 40 crores\n"
     ]
    }
   ],
   "source": [
    "# Polymorphism\n",
    "# MAking function outside the classes for accessing classes\n",
    "\n",
    "class Pakistan():\n",
    "    def detail(self):\n",
    "        print(\"The Capital of Pakistan is Islamabad and the population of Pakistan is 20 crores\")\n",
    "        \n",
    "class USA():\n",
    "    def detail(self):\n",
    "        print(\"The Capital of USA is Washington DC and the population of USA is 40 crores\")\n",
    "        \n",
    "def description(country):\n",
    "    country.detail() # if we write print here then 'None' will be shown in output box\n",
    "    \n",
    "Pak = Pakistan() # object of Pakistan\n",
    "usa = USA() # object of USA\n",
    "\n",
    "description(Pak)\n",
    "description(usa)"
   ]
  },
  {
   "cell_type": "code",
   "execution_count": 11,
   "metadata": {},
   "outputs": [
    {
     "name": "stdout",
     "output_type": "stream",
     "text": [
      "12\n"
     ]
    }
   ],
   "source": [
    "# Overloading means same methods but parameters different\n",
    "# Below program is available for those method who has maximum number of parameters\n",
    "\n",
    "class OverLoadingDemo():\n",
    "    def sum(self,a,b):\n",
    "        print(a + b)\n",
    "        \n",
    "    def sum(self,a,b,c):\n",
    "        print(a + b + c)\n",
    "        \n",
    "obj3 = OverLoadingDemo()\n",
    "\n",
    "obj3.sum(2,4,6)"
   ]
  },
  {
   "cell_type": "code",
   "execution_count": 12,
   "metadata": {},
   "outputs": [
    {
     "name": "stdout",
     "output_type": "stream",
     "text": [
      "6\n"
     ]
    }
   ],
   "source": [
    "# Below program is available for both maximum and minimum number of parameters\n",
    "\n",
    "class OverLoadingDemo():\n",
    "    def sum(self, a = None , b = None , c = None):\n",
    "        if a != None and b != None and c != None:\n",
    "            print(a + b + c)\n",
    "        \n",
    "        elif a != None and b != None:\n",
    "            print(a + b)\n",
    "        \n",
    "obj3 = OverLoadingDemo()\n",
    "\n",
    "obj3.sum(2,4)"
   ]
  },
  {
   "cell_type": "code",
   "execution_count": 13,
   "metadata": {},
   "outputs": [
    {
     "name": "stdout",
     "output_type": "stream",
     "text": [
      "6\n",
      "4\n"
     ]
    }
   ],
   "source": [
    "# Example of Polymorphism\n",
    "# Finding length\n",
    "\n",
    "print(len(\"manzar\"))\n",
    "print(len([1, 5 , 7 , 9]))"
   ]
  },
  {
   "cell_type": "code",
   "execution_count": 14,
   "metadata": {},
   "outputs": [
    {
     "name": "stdout",
     "output_type": "stream",
     "text": [
      "He gives 4 tola\n"
     ]
    }
   ],
   "source": [
    "# Abstraction and Import Abstract based Class and Method\n",
    "# Abstract method means child class must be used\n",
    "\n",
    "from abc import ABC,abstractmethod\n",
    "\n",
    "class Nikkah(ABC): # Abstract Class\n",
    "    @abstractmethod # decoration in python and it must be used for accesing method\n",
    "    def haqmeher(): # Abstract Method\n",
    "        pass\n",
    "    \n",
    "class Human1(Nikkah): # Abstract Child Class of Nikkah\n",
    "    def haqmeher(self,tola):\n",
    "        print(\"He gives \" + str(tola) + \" tola\")\n",
    "        \n",
    "obj6 = Human1()\n",
    "\n",
    "obj6.haqmeher(4)"
   ]
  },
  {
   "cell_type": "code",
   "execution_count": 15,
   "metadata": {},
   "outputs": [
    {
     "name": "stdout",
     "output_type": "stream",
     "text": [
      "He gives 4 tola\n",
      "Valima is going on\n"
     ]
    }
   ],
   "source": [
    "# In Abstraction, method in parent class must ne used in child class otherwise it will be error\n",
    "\n",
    "from abc import ABC,abstractmethod\n",
    "\n",
    "class Nikkah(ABC): # Abstract Class\n",
    "    @abstractmethod # decoration in python and it must be used for accesing method\n",
    "    def haqmeher(): # Abstract Method\n",
    "        pass\n",
    "    \n",
    "class Human1(Nikkah): # Abstract Child Class of Nikkah\n",
    "    def haqmeher(self,tola):\n",
    "        print(\"He gives \" + str(tola) + \" tola\")\n",
    "        \n",
    "    def valima(self):\n",
    "        print(\"Valima is going on\")\n",
    "        \n",
    "obj6 = Human1()\n",
    "\n",
    "obj6.haqmeher(4)\n",
    "obj6.valima()"
   ]
  },
  {
   "cell_type": "code",
   "execution_count": null,
   "metadata": {},
   "outputs": [],
   "source": []
  }
 ],
 "metadata": {
  "kernelspec": {
   "display_name": "Python 3",
   "language": "python",
   "name": "python3"
  },
  "language_info": {
   "codemirror_mode": {
    "name": "ipython",
    "version": 3
   },
   "file_extension": ".py",
   "mimetype": "text/x-python",
   "name": "python",
   "nbconvert_exporter": "python",
   "pygments_lexer": "ipython3",
   "version": "3.7.4"
  }
 },
 "nbformat": 4,
 "nbformat_minor": 2
}

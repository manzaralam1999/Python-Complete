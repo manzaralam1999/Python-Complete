{
 "cells": [
  {
   "cell_type": "markdown",
   "metadata": {},
   "source": [
    "# Python Class 05"
   ]
  },
  {
   "cell_type": "code",
   "execution_count": 1,
   "metadata": {},
   "outputs": [
    {
     "name": "stdout",
     "output_type": "stream",
     "text": [
      "34\n"
     ]
    }
   ],
   "source": [
    "# function\n",
    "\n",
    "def addnum():\n",
    "    first_num = \"3\"\n",
    "    second_num = \"4\"\n",
    "    result = first_num + second_num\n",
    "    print(result)\n",
    "\n",
    "addnum()"
   ]
  },
  {
   "cell_type": "code",
   "execution_count": 2,
   "metadata": {},
   "outputs": [
    {
     "name": "stdout",
     "output_type": "stream",
     "text": [
      "7\n"
     ]
    }
   ],
   "source": [
    "# function\n",
    "\n",
    "def addnum():\n",
    "    first_num = 3\n",
    "    second_num = 4\n",
    "    result = first_num + second_num\n",
    "    print(result)\n",
    "\n",
    "addnum()"
   ]
  },
  {
   "cell_type": "code",
   "execution_count": 3,
   "metadata": {},
   "outputs": [
    {
     "name": "stdout",
     "output_type": "stream",
     "text": [
      "107\n"
     ]
    }
   ],
   "source": [
    "# passing arguements as 9 and 98 and parameters as first_num and second_num\n",
    "\n",
    "def addnum(first_num, second_num):\n",
    "    result = first_num + second_num\n",
    "    print(result)\n",
    "    \n",
    "addnum(9,98)"
   ]
  },
  {
   "cell_type": "code",
   "execution_count": 4,
   "metadata": {},
   "outputs": [
    {
     "name": "stdout",
     "output_type": "stream",
     "text": [
      "143\n"
     ]
    }
   ],
   "source": [
    "# data out of the scope of function\n",
    "# local scope means under the function scope\n",
    "# global scope means out of thye function scope\n",
    "# globally can access locally\n",
    "\n",
    "def addnum(first_num, second_num):\n",
    "    result = first_num + second_num\n",
    "    print(result)\n",
    "first_num = 54\n",
    "second_num = 89\n",
    "addnum(first_num,second_num)"
   ]
  },
  {
   "cell_type": "code",
   "execution_count": 5,
   "metadata": {},
   "outputs": [
    {
     "name": "stdout",
     "output_type": "stream",
     "text": [
      "143\n"
     ]
    }
   ],
   "source": [
    "# globally can access locally even changing the assigning name of variable\n",
    "\n",
    "def addnum(num1, num2):\n",
    "    result = num1 + num2\n",
    "    print(result)\n",
    "first_num = 54\n",
    "second_num = 89\n",
    "addnum(first_num,second_num)"
   ]
  },
  {
   "cell_type": "code",
   "execution_count": 6,
   "metadata": {},
   "outputs": [
    {
     "name": "stdout",
     "output_type": "stream",
     "text": [
      "143\n"
     ]
    }
   ],
   "source": [
    "# golbal position change\n",
    "\n",
    "first_num = 54\n",
    "second_num = 89\n",
    "def addnum(num1, num2):\n",
    "    result = num1 + num2\n",
    "    print(result)\n",
    "addnum(first_num,second_num)"
   ]
  },
  {
   "cell_type": "code",
   "execution_count": 7,
   "metadata": {},
   "outputs": [
    {
     "name": "stdout",
     "output_type": "stream",
     "text": [
      "17\n"
     ]
    }
   ],
   "source": [
    "# data is not available globally\n",
    "# when we don't have globally values then data arguments name same as locally function\n",
    "def addnum(first_num, second_num):\n",
    "    result = first_num + second_num\n",
    "    print(result)\n",
    "    \n",
    "addnum(first_num = 6, second_num = 11)"
   ]
  },
  {
   "cell_type": "code",
   "execution_count": 8,
   "metadata": {},
   "outputs": [
    {
     "name": "stdout",
     "output_type": "stream",
     "text": [
      "1\n"
     ]
    }
   ],
   "source": [
    "# value passing will not go towards the same variable name, first value will assign as first\n",
    "\n",
    "first_num = 8\n",
    "second_num = 9\n",
    "\n",
    "def addnum(second_num,first_num):\n",
    "    result = first_num - second_num\n",
    "    print(result)\n",
    "    \n",
    "addnum(first_num, second_num)"
   ]
  },
  {
   "cell_type": "code",
   "execution_count": 9,
   "metadata": {},
   "outputs": [
    {
     "name": "stdout",
     "output_type": "stream",
     "text": [
      "-1\n"
     ]
    }
   ],
   "source": [
    "# function\n",
    "\n",
    "first_num = 8\n",
    "second_num = 9\n",
    "\n",
    "def addnum(eight,nine):\n",
    "    result = eight - nine\n",
    "    print(result)\n",
    "    \n",
    "addnum(first_num, second_num)"
   ]
  },
  {
   "cell_type": "code",
   "execution_count": 10,
   "metadata": {},
   "outputs": [
    {
     "name": "stdout",
     "output_type": "stream",
     "text": [
      "30\n"
     ]
    }
   ],
   "source": [
    "# 1 value golabally define and another value is defined as parameter \n",
    "\n",
    "first_num = 10\n",
    "\n",
    "def defarg(ten , twenty = 20):\n",
    "    result = ten + twenty\n",
    "    print(result)\n",
    "    \n",
    "defarg(first_num)"
   ]
  },
  {
   "cell_type": "code",
   "execution_count": 11,
   "metadata": {},
   "outputs": [
    {
     "name": "stdout",
     "output_type": "stream",
     "text": [
      "20\n"
     ]
    }
   ],
   "source": [
    "# 1 value golabally define and another value is defined as parameter \n",
    "\n",
    "first_num = 9\n",
    "\n",
    "def myfunc(nine , eleven = 11):\n",
    "    result = nine + eleven\n",
    "    print(result)\n",
    "    \n",
    "myfunc(first_num)"
   ]
  },
  {
   "cell_type": "code",
   "execution_count": 12,
   "metadata": {},
   "outputs": [
    {
     "name": "stdout",
     "output_type": "stream",
     "text": [
      "SMIT Python Programming 3 months\n"
     ]
    }
   ],
   "source": [
    "# some variables are globally available\n",
    "# some variables are given by default argument (as a last parameter only)\n",
    "# some data are passing while calling function\n",
    "\n",
    "inst = \"SMIT\"\n",
    "\n",
    "def course_detail(inst , dur , lang = \"Python Programming\"):\n",
    "    print(inst + \" \" + lang + \" \" + dur)\n",
    "    \n",
    "course_detail(inst, dur = \"3 months\")"
   ]
  },
  {
   "cell_type": "code",
   "execution_count": 13,
   "metadata": {},
   "outputs": [
    {
     "name": "stdout",
     "output_type": "stream",
     "text": [
      "My name is Manzar Alam\n"
     ]
    }
   ],
   "source": [
    "# limited parameter passing and number of parameter same\n",
    "\n",
    "def func(name, fname):\n",
    "    print(\"My name is\" + \" \" + name + \" \" + fname)\n",
    "    \n",
    "func(\"Manzar\", \"Alam\")"
   ]
  },
  {
   "cell_type": "code",
   "execution_count": 14,
   "metadata": {},
   "outputs": [
    {
     "name": "stdout",
     "output_type": "stream",
     "text": [
      "My name is Manzar Alam\n",
      "manzar.alam0305@gmail.com\n",
      "123456789\n",
      "Karachi\n"
     ]
    }
   ],
   "source": [
    "# unlimited parameter passing and number of parameter is not same\n",
    "# '*' is used for values only\n",
    "\n",
    "def func(name, fname, *params):\n",
    "    print(\"My name is\" + \" \" + name + \" \" + fname)\n",
    "    for param in params:\n",
    "        print(param)\n",
    "    \n",
    "func(\"Manzar\", \"Alam\", \"manzar.alam0305@gmail.com\", \"123456789\", \"Karachi\")"
   ]
  },
  {
   "cell_type": "code",
   "execution_count": 15,
   "metadata": {},
   "outputs": [
    {
     "name": "stdout",
     "output_type": "stream",
     "text": [
      "My name is Manzar Alam\n",
      "email manzar.alam0305@gmail.com\n",
      "mobilenumber 03052408164\n",
      "city Karachi\n"
     ]
    }
   ],
   "source": [
    "# '**' is used for keys and values both\n",
    "\n",
    "def func(name, fname, **parameters):\n",
    "    print(\"My name is\" + \" \" + name + \" \" + fname)\n",
    "    for key,value in parameters.items():\n",
    "        print(key + \" \" + value)\n",
    "    \n",
    "func(\"Manzar\",\"Alam\", email = \"manzar.alam0305@gmail.com\", mobilenumber = \"03052408164\", city = \"Karachi\")"
   ]
  },
  {
   "cell_type": "code",
   "execution_count": 16,
   "metadata": {},
   "outputs": [
    {
     "name": "stdout",
     "output_type": "stream",
     "text": [
      "19\n"
     ]
    }
   ],
   "source": [
    "# return function\n",
    "# return provides the data outside the function from inside the function\n",
    "# take value from function then we use return\n",
    "# we must make variable for store return value\n",
    "\n",
    "def rfunc():\n",
    "    num1 = 14\n",
    "    num2 = 5\n",
    "    result = num1 + num2\n",
    "    return result\n",
    "    \n",
    "return_var = rfunc()\n",
    "print(return_var)"
   ]
  },
  {
   "cell_type": "code",
   "execution_count": 17,
   "metadata": {},
   "outputs": [
    {
     "name": "stdout",
     "output_type": "stream",
     "text": [
      "19\n",
      "23\n",
      "42\n"
     ]
    }
   ],
   "source": [
    "# Adding two returned values through function\n",
    "\n",
    "def r1func():\n",
    "    num1 = 14\n",
    "    num2 = 5\n",
    "    result = num1 + num2\n",
    "    return result\n",
    "    \n",
    "return_var1 = r1func()\n",
    "print(return_var1)\n",
    "\n",
    "def r2func():\n",
    "    num3 = 14\n",
    "    num4 = 9\n",
    "    result = num3 + num4\n",
    "    return result\n",
    "    \n",
    "return_var2 = r2func()\n",
    "print(return_var2)\n",
    "\n",
    "final_result = return_var1 + return_var2\n",
    "print(final_result)\n"
   ]
  },
  {
   "cell_type": "code",
   "execution_count": 18,
   "metadata": {},
   "outputs": [
    {
     "name": "stdout",
     "output_type": "stream",
     "text": [
      "What is your name?\n",
      "Manzar\n",
      "Manzar is enrolled in SMIT Python Programming 3 months\n"
     ]
    }
   ],
   "source": [
    "# Calling one function into another function and then return result\n",
    "\n",
    "def course_info():\n",
    "    institute = \"SMIT\"\n",
    "    language = \"Python Programming\"\n",
    "    duration = \"3 months\"\n",
    "    return (institute + \" \" + language + \" \" + duration)\n",
    "\n",
    "def user_info():\n",
    "    name = input(\"What is your name?\\n\")\n",
    "    result = name + \" \" + \"is enrolled in\" + \" \" + course_info()\n",
    "    return result\n",
    "\n",
    "whole_info = user_info()\n",
    "\n",
    "print(whole_info)"
   ]
  },
  {
   "cell_type": "code",
   "execution_count": 19,
   "metadata": {},
   "outputs": [
    {
     "name": "stdout",
     "output_type": "stream",
     "text": [
      "Manzar\n"
     ]
    }
   ],
   "source": [
    "# return string\n",
    "\n",
    "def addnum():\n",
    "    name = \"Manzar\"\n",
    "    print(name)\n",
    "\n",
    "addnum()"
   ]
  },
  {
   "cell_type": "code",
   "execution_count": 20,
   "metadata": {},
   "outputs": [
    {
     "name": "stdout",
     "output_type": "stream",
     "text": [
      "Manzar Alam\n"
     ]
    }
   ],
   "source": [
    "# return string and then concatinate with another string\n",
    "\n",
    "def addnum():\n",
    "    name = \"Manzar\"\n",
    "    return name\n",
    "\n",
    "first_name = addnum()\n",
    "\n",
    "full_name = first_name + \" \" + \"Alam\"\n",
    "print(full_name)"
   ]
  },
  {
   "cell_type": "code",
   "execution_count": 21,
   "metadata": {},
   "outputs": [
    {
     "name": "stdout",
     "output_type": "stream",
     "text": [
      "Enter correct alphabet\n",
      "l\n",
      "Enter correct alphabet\n",
      "m\n",
      "\n",
      " exist\n",
      "Enter correct alphabet\n",
      "a\n",
      "\n",
      " exist\n"
     ]
    }
   ],
   "source": [
    "# while can be used as conditionally\n",
    "# while can be used as loop\n",
    "# while running faster as compared to the code\n",
    "\n",
    "alphabet = input(\"Enter correct alphabet\\n\")\n",
    "while alphabet != \"a\":\n",
    "    alphabet = input(\"Enter correct alphabet\\n\")\n",
    "    print(\"\\n exist\")"
   ]
  },
  {
   "cell_type": "code",
   "execution_count": null,
   "metadata": {},
   "outputs": [],
   "source": []
  }
 ],
 "metadata": {
  "kernelspec": {
   "display_name": "Python 3",
   "language": "python",
   "name": "python3"
  },
  "language_info": {
   "codemirror_mode": {
    "name": "ipython",
    "version": 3
   },
   "file_extension": ".py",
   "mimetype": "text/x-python",
   "name": "python",
   "nbconvert_exporter": "python",
   "pygments_lexer": "ipython3",
   "version": "3.7.4"
  }
 },
 "nbformat": 4,
 "nbformat_minor": 2
}

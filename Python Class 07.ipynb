{
 "cells": [
  {
   "cell_type": "code",
   "execution_count": 1,
   "metadata": {},
   "outputs": [
    {
     "name": "stdout",
     "output_type": "stream",
     "text": [
      "Taimur\n",
      "32\n",
      "twenty-three\n"
     ]
    }
   ],
   "source": [
    "# class\n",
    "# self must be used and we can't change self with any name because self is fixed\n",
    "# where we call class it is considered as instance and then we pass value through instance\n",
    "\n",
    "class Registration():\n",
    "    # instantiation method\n",
    "    def __init__(self,name,rollno,age):\n",
    "        \n",
    "        # Attributes and Attributes Names\n",
    "        self.name = name\n",
    "        self.rollno = rollno\n",
    "        self.age = age\n",
    "        # default Attribute because we stored value in it\n",
    "        self.uniName = \"IQRA University\"\n",
    "\n",
    "# instance        \n",
    "stu1 = Registration(\"Taimur\",32,\"twenty-three\")\n",
    "print(stu1.name)\n",
    "print(stu1.rollno)\n",
    "print(stu1.age)"
   ]
  },
  {
   "cell_type": "code",
   "execution_count": 2,
   "metadata": {},
   "outputs": [
    {
     "name": "stdout",
     "output_type": "stream",
     "text": [
      "Taimur\n",
      "32\n",
      "twenty-three\n",
      "Zain\n",
      "45\n",
      "twenty-one\n"
     ]
    }
   ],
   "source": [
    "# information printing through class\n",
    "\n",
    "class Registration():\n",
    "    # instantiation method\n",
    "    def __init__(self,name,rollno,age):\n",
    "        \n",
    "        # Attributes and Attributes Names\n",
    "        self.name = name\n",
    "        self.rollno = rollno\n",
    "        self.age = age\n",
    "        # default Attribute because we stored value in it\n",
    "        self.uniName = \"IQRA University\"\n",
    "\n",
    "# instance        \n",
    "stu1 = Registration(\"Taimur\",32,\"twenty-three\")\n",
    "print(stu1.name)\n",
    "print(stu1.rollno)\n",
    "print(stu1.age)\n",
    "\n",
    "# new instance of second student\n",
    "stu2 = Registration(\"Zain\",45,\"twenty-one\")\n",
    "print(stu2.name)\n",
    "print(stu2.rollno)\n",
    "print(stu2.age)"
   ]
  },
  {
   "cell_type": "code",
   "execution_count": 3,
   "metadata": {},
   "outputs": [
    {
     "name": "stdout",
     "output_type": "stream",
     "text": [
      "Taimur\n",
      "32\n",
      "twenty-three\n",
      "IQRA University Default University\n",
      "NED University Modified University\n"
     ]
    }
   ],
   "source": [
    "# Modify information through class\n",
    "\n",
    "class Registration():\n",
    "    # instantiation method\n",
    "    def __init__(self,name,rollno,age):\n",
    "        \n",
    "        # Attributes and Attributes Names\n",
    "        self.name = name\n",
    "        self.rollno = rollno\n",
    "        self.age = age\n",
    "        # default Attribute because we stored value in it\n",
    "        self.uniName = \"IQRA University\"\n",
    "\n",
    "# instance        \n",
    "stu1 = Registration(\"Taimur\",32,\"twenty-three\")\n",
    "print(stu1.name)\n",
    "print(stu1.rollno)\n",
    "print(stu1.age)\n",
    "print(stu1.uniName,\"Default University\")\n",
    "\n",
    "# Directly Modifying Attributes\n",
    "stu1.uniName = \"NED University\"\n",
    "print(stu1.uniName,\"Modified University\")"
   ]
  },
  {
   "cell_type": "code",
   "execution_count": 4,
   "metadata": {},
   "outputs": [
    {
     "name": "stdout",
     "output_type": "stream",
     "text": [
      "Taimur\n",
      "32\n",
      "twenty-three\n",
      "IQRA University Default University\n",
      "NED University Modified University\n",
      "\n",
      "\n",
      "Zain\n",
      "45\n",
      "twenty-one\n",
      "IQRA University Default University\n",
      "Bahria University Modified University\n",
      "\n",
      "\n",
      "<__main__.Registration object at 0x0000016249F64948>\n",
      "<__main__.Registration object at 0x0000016249F45848>\n"
     ]
    }
   ],
   "source": [
    "# Modify Attribute\n",
    "# checking addresses\n",
    "\n",
    "class Registration():\n",
    "    # instantiation method\n",
    "    def __init__(self,name,rollno,age):\n",
    "        \n",
    "        # Attributes and Attributes Names\n",
    "        self.name = name\n",
    "        self.rollno = rollno\n",
    "        self.age = age\n",
    "        # default Attribute because we stored value in it\n",
    "        self.uniName = \"IQRA University\"\n",
    "\n",
    "# instance        \n",
    "stu1 = Registration(\"Taimur\",32,\"twenty-three\")\n",
    "print(stu1.name)\n",
    "print(stu1.rollno)\n",
    "print(stu1.age)\n",
    "print(stu1.uniName,\"Default University\")\n",
    "\n",
    "# Directly Modifying Attributes\n",
    "stu1.uniName = \"NED University\"\n",
    "print(stu1.uniName,\"Modified University\")\n",
    "\n",
    "\n",
    "\n",
    "print(\"\\n\")\n",
    "# new instance of second student\n",
    "stu2 = Registration(\"Zain\",45,\"twenty-one\")\n",
    "print(stu2.name)\n",
    "print(stu2.rollno)\n",
    "print(stu2.age)\n",
    "print(stu2.uniName,\"Default University\")\n",
    "\n",
    "# Directly Modifying Attributes\n",
    "stu1.uniName = \"Bahria University\"\n",
    "print(stu1.uniName,\"Modified University\")\n",
    "\n",
    "print(\"\\n\")\n",
    "print(stu1)\n",
    "print(stu2)\n"
   ]
  },
  {
   "cell_type": "code",
   "execution_count": 5,
   "metadata": {},
   "outputs": [
    {
     "name": "stdout",
     "output_type": "stream",
     "text": [
      "Taimur\n",
      "32\n",
      "twenty-three\n",
      "IQRA University\n",
      "Karachi University Modified University\n"
     ]
    }
   ],
   "source": [
    "# using method in the class\n",
    "# second method for Modifying attribute\n",
    "\n",
    "class Registration():\n",
    "    # instantiation method\n",
    "    def __init__(self,name,rollno,age):\n",
    "        \n",
    "        # Attributes and Attributes Names\n",
    "        self.name = name\n",
    "        self.rollno = rollno\n",
    "        self.age = age\n",
    "        # default Attribute because we stored value in it\n",
    "        self.uniName = \"IQRA University\"\n",
    "        \n",
    "    def updateUni(self,newName):\n",
    "        self.uniName = newName\n",
    "\n",
    "# instance        \n",
    "stu1 = Registration(\"Taimur\",32,\"twenty-three\")\n",
    "print(stu1.name)\n",
    "print(stu1.rollno)\n",
    "print(stu1.age)\n",
    "print(stu1.uniName)\n",
    "stu1.updateUni(\"Karachi University\")\n",
    "print(stu1.uniName,\"Modified University\")"
   ]
  },
  {
   "cell_type": "code",
   "execution_count": 6,
   "metadata": {},
   "outputs": [
    {
     "name": "stdout",
     "output_type": "stream",
     "text": [
      "Taimur\n",
      "32 Old roll no\n",
      "twenty-three\n",
      "IQRA University\n",
      "Karachi University Modified University\n",
      "35 New roll no\n"
     ]
    }
   ],
   "source": [
    "# using two methods in the class\n",
    "# Modify two attributes\n",
    "\n",
    "class Registration():\n",
    "    # instantiation method\n",
    "    def __init__(self,name,rollno,age):\n",
    "        \n",
    "        # Attributes and Attributes Names\n",
    "        self.name = name\n",
    "        self.rollno = rollno\n",
    "        self.age = age\n",
    "        # default Attribute because we stored value in it\n",
    "        self.uniName = \"IQRA University\"\n",
    "    \n",
    "    # Method for updating University Name    \n",
    "    def updateUni(self,newName):\n",
    "        self.uniName = newName\n",
    "        \n",
    "    # Method for updating Roll No\n",
    "    def updateRollno(self,newRollNo):\n",
    "        self.rollno += newRollNo\n",
    "\n",
    "# instance        \n",
    "stu1 = Registration(\"Taimur\",32,\"twenty-three\")\n",
    "print(stu1.name)\n",
    "print(stu1.rollno, \"Old roll no\")\n",
    "print(stu1.age)\n",
    "print(stu1.uniName)\n",
    "stu1.updateUni(\"Karachi University\")\n",
    "print(stu1.uniName,\"Modified University\")\n",
    "stu1.updateRollno(3)\n",
    "print(stu1.rollno,\"New roll no\")"
   ]
  },
  {
   "cell_type": "code",
   "execution_count": null,
   "metadata": {},
   "outputs": [],
   "source": []
  }
 ],
 "metadata": {
  "kernelspec": {
   "display_name": "Python 3",
   "language": "python",
   "name": "python3"
  },
  "language_info": {
   "codemirror_mode": {
    "name": "ipython",
    "version": 3
   },
   "file_extension": ".py",
   "mimetype": "text/x-python",
   "name": "python",
   "nbconvert_exporter": "python",
   "pygments_lexer": "ipython3",
   "version": "3.7.4"
  }
 },
 "nbformat": 4,
 "nbformat_minor": 2
}

{
 "cells": [
  {
   "cell_type": "markdown",
   "metadata": {},
   "source": [
    "# Python Class 01"
   ]
  },
  {
   "cell_type": "code",
   "execution_count": 1,
   "metadata": {},
   "outputs": [
    {
     "name": "stdout",
     "output_type": "stream",
     "text": [
      "Hello World\n"
     ]
    }
   ],
   "source": [
    "# first python program\n",
    "\n",
    "print(\"Hello World\")"
   ]
  },
  {
   "cell_type": "code",
   "execution_count": 2,
   "metadata": {},
   "outputs": [
    {
     "name": "stdout",
     "output_type": "stream",
     "text": [
      "Muhammad Manzar Alam Ansari\n"
     ]
    }
   ],
   "source": [
    "# No need of var input or double in pyhton\n",
    "# Variable Declaration\n",
    "# Variable Initialization\n",
    "# Variable is allocating a chunks/space/memory\n",
    "# String is basically the group of characters\n",
    "\n",
    "name = \"Muhammad Manzar Alam Ansari\"\n",
    "print(name)"
   ]
  },
  {
   "cell_type": "code",
   "execution_count": 3,
   "metadata": {},
   "outputs": [
    {
     "name": "stdout",
     "output_type": "stream",
     "text": [
      "11\n"
     ]
    }
   ],
   "source": [
    "# Syntax is how you can write your code\n",
    "# No syntax error if the numeric number after the variable name\n",
    "# syntax error if the numeric number before the variable name\n",
    "# Semi-colon is optional in python\n",
    "\n",
    "a1 = 5\n",
    "b2 = 6\n",
    "c = a1 + b2\n",
    "print(c)"
   ]
  },
  {
   "cell_type": "code",
   "execution_count": 4,
   "metadata": {},
   "outputs": [
    {
     "name": "stdout",
     "output_type": "stream",
     "text": [
      "Manzar Alam\n"
     ]
    }
   ],
   "source": [
    "# String always in inverted commas\n",
    "# Python is a K-sensitive language\n",
    "\n",
    "first_name = \"Manzar\"\n",
    "last_name = \"Alam\"\n",
    "full_name = first_name + \" \" + last_name\n",
    "print(full_name)"
   ]
  },
  {
   "cell_type": "code",
   "execution_count": 5,
   "metadata": {},
   "outputs": [
    {
     "name": "stdout",
     "output_type": "stream",
     "text": [
      "63\n"
     ]
    }
   ],
   "source": [
    "# When we concatinate string and numeric number so, it will be error\n",
    "\n",
    "a = \"6\"\n",
    "b = \"3\"\n",
    "c = a + b\n",
    "print(c)"
   ]
  },
  {
   "cell_type": "code",
   "execution_count": 6,
   "metadata": {},
   "outputs": [
    {
     "name": "stdout",
     "output_type": "stream",
     "text": [
      "5555\n"
     ]
    }
   ],
   "source": [
    "# Two strings can not be multiplied whereas string and numeric number can be multiplied\n",
    "\n",
    "a = \"5\"\n",
    "b = 4\n",
    "c = a * b\n",
    "print(c)"
   ]
  },
  {
   "cell_type": "code",
   "execution_count": 7,
   "metadata": {},
   "outputs": [
    {
     "name": "stdout",
     "output_type": "stream",
     "text": [
      "700.088\n"
     ]
    }
   ],
   "source": [
    "# Adding\n",
    "\n",
    "num = .088\n",
    "total = num + 700\n",
    "print(total)"
   ]
  },
  {
   "cell_type": "code",
   "execution_count": 8,
   "metadata": {},
   "outputs": [
    {
     "name": "stdout",
     "output_type": "stream",
     "text": [
      "-30\n"
     ]
    }
   ],
   "source": [
    "# Subtracting\n",
    "\n",
    "a = 20 - 50\n",
    "print (a)"
   ]
  },
  {
   "cell_type": "code",
   "execution_count": 9,
   "metadata": {},
   "outputs": [
    {
     "name": "stdout",
     "output_type": "stream",
     "text": [
      "5\n"
     ]
    }
   ],
   "source": [
    "# key words can not be used as variable such as global, elif etc\n",
    "\n",
    "globa = 5\n",
    "print(globa)"
   ]
  },
  {
   "cell_type": "code",
   "execution_count": 10,
   "metadata": {},
   "outputs": [
    {
     "data": {
      "text/plain": [
       "0"
      ]
     },
     "execution_count": 10,
     "metadata": {},
     "output_type": "execute_result"
    }
   ],
   "source": [
    "# in pyhton it is not necessary to write print\n",
    "\n",
    "a = 10 % 2\n",
    "a"
   ]
  },
  {
   "cell_type": "code",
   "execution_count": 11,
   "metadata": {},
   "outputs": [
    {
     "name": "stdout",
     "output_type": "stream",
     "text": [
      "1\n"
     ]
    }
   ],
   "source": [
    "# Modulus Operator\n",
    "\n",
    "b = 11 % 5\n",
    "print(b)"
   ]
  },
  {
   "cell_type": "code",
   "execution_count": 12,
   "metadata": {},
   "outputs": [
    {
     "name": "stdout",
     "output_type": "stream",
     "text": [
      "37\n"
     ]
    }
   ],
   "source": [
    "# Adding\n",
    "\n",
    "a = 29\n",
    "a = 29 + 8\n",
    "print(a)"
   ]
  },
  {
   "cell_type": "code",
   "execution_count": 13,
   "metadata": {},
   "outputs": [
    {
     "name": "stdout",
     "output_type": "stream",
     "text": [
      "50\n"
     ]
    }
   ],
   "source": [
    "# Increment\n",
    "\n",
    "a = 46\n",
    "a += 4\n",
    "print(a)"
   ]
  },
  {
   "cell_type": "code",
   "execution_count": 14,
   "metadata": {},
   "outputs": [
    {
     "name": "stdout",
     "output_type": "stream",
     "text": [
      "16\n"
     ]
    }
   ],
   "source": [
    "# DMAS\n",
    "\n",
    "total_cost = 1 + 3 * 5\n",
    "print(total_cost)"
   ]
  },
  {
   "cell_type": "code",
   "execution_count": 15,
   "metadata": {},
   "outputs": [
    {
     "name": "stdout",
     "output_type": "stream",
     "text": [
      "20\n"
     ]
    }
   ],
   "source": [
    "# BODMAS\n",
    "\n",
    "total_cost = (1 + 3) * 5\n",
    "print(total_cost)"
   ]
  },
  {
   "cell_type": "code",
   "execution_count": 16,
   "metadata": {},
   "outputs": [
    {
     "name": "stdout",
     "output_type": "stream",
     "text": [
      "5.0\n"
     ]
    }
   ],
   "source": [
    "# single division operator gives float value if the number is exactly divisible\n",
    "\n",
    "total_cost = (1 + 3) * 5 / 4\n",
    "print(total_cost)"
   ]
  },
  {
   "cell_type": "code",
   "execution_count": 17,
   "metadata": {},
   "outputs": [
    {
     "name": "stdout",
     "output_type": "stream",
     "text": [
      "5\n"
     ]
    }
   ],
   "source": [
    "# double division operator gives numeric value if the number is exactly divisible\n",
    "\n",
    "total_cost = (1 + 3) * 5 // 4\n",
    "print(total_cost)"
   ]
  },
  {
   "cell_type": "code",
   "execution_count": 18,
   "metadata": {},
   "outputs": [
    {
     "name": "stdout",
     "output_type": "stream",
     "text": [
      "My name Manzar\n"
     ]
    }
   ],
   "source": [
    "# we can use single inverted comma instead of double inverted comma, it will not be error \n",
    "\n",
    "a = \"name\"\n",
    "b = 'My'\n",
    "c = 'Manzar'\n",
    "d = b + ' ' + a + \" \" + c\n",
    "print(d)"
   ]
  },
  {
   "cell_type": "code",
   "execution_count": 19,
   "metadata": {},
   "outputs": [
    {
     "name": "stdout",
     "output_type": "stream",
     "text": [
      "My name is 5\n"
     ]
    }
   ],
   "source": [
    "# Concatination of Strings\n",
    "\n",
    "print(\"My name is\" + \" 5\")"
   ]
  },
  {
   "cell_type": "code",
   "execution_count": 20,
   "metadata": {},
   "outputs": [
    {
     "name": "stdout",
     "output_type": "stream",
     "text": [
      "125\n"
     ]
    }
   ],
   "source": [
    "# Power Operator\n",
    "\n",
    "a = 5 ** 3\n",
    "print(a)"
   ]
  },
  {
   "cell_type": "code",
   "execution_count": 21,
   "metadata": {},
   "outputs": [
    {
     "name": "stdout",
     "output_type": "stream",
     "text": [
      "HaHaHaHa\n"
     ]
    }
   ],
   "source": [
    "# Multiplication of string and integer\n",
    "\n",
    "print('Ha' * 4)"
   ]
  },
  {
   "cell_type": "code",
   "execution_count": 22,
   "metadata": {},
   "outputs": [
    {
     "name": "stdout",
     "output_type": "stream",
     "text": [
      "Enter your value 9\n",
      "24\n"
     ]
    }
   ],
   "source": [
    "# Input always takes the value as string\n",
    "\n",
    "a = int(input(\"Enter your value \"))\n",
    "b = 15\n",
    "c = a + b\n",
    "print(c)"
   ]
  },
  {
   "cell_type": "code",
   "execution_count": 23,
   "metadata": {},
   "outputs": [
    {
     "name": "stdout",
     "output_type": "stream",
     "text": [
      "Enter your value 14\n",
      "29\n"
     ]
    }
   ],
   "source": [
    "# Use int() function to convert string into integers\n",
    "\n",
    "a = input(\"Enter your value \")\n",
    "b = 15\n",
    "c = int(a) + b\n",
    "print(c)"
   ]
  },
  {
   "cell_type": "code",
   "execution_count": 24,
   "metadata": {},
   "outputs": [
    {
     "name": "stdout",
     "output_type": "stream",
     "text": [
      "Enter your value 5\n",
      "20\n"
     ]
    }
   ],
   "source": [
    "# (''' ''') and (\"\"\"\" \"\"\") for multiple line comments\n",
    "'''\n",
    "My name is manzar\n",
    "I am quite well\n",
    "'''\n",
    "\n",
    "\"\"\"\n",
    "I am Learning Python language online\n",
    "included python core, numpy and pandas\n",
    "\"\"\"\n",
    "\n",
    "a = input(\"Enter your value \")\n",
    "b = 15\n",
    "c = int(a) + b\n",
    "print(c)"
   ]
  },
  {
   "cell_type": "code",
   "execution_count": null,
   "metadata": {},
   "outputs": [],
   "source": []
  }
 ],
 "metadata": {
  "kernelspec": {
   "display_name": "Python 3",
   "language": "python",
   "name": "python3"
  },
  "language_info": {
   "codemirror_mode": {
    "name": "ipython",
    "version": 3
   },
   "file_extension": ".py",
   "mimetype": "text/x-python",
   "name": "python",
   "nbconvert_exporter": "python",
   "pygments_lexer": "ipython3",
   "version": "3.7.4"
  }
 },
 "nbformat": 4,
 "nbformat_minor": 2
}

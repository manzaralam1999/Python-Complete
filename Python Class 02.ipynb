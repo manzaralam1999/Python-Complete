{
 "cells": [
  {
   "cell_type": "markdown",
   "metadata": {},
   "source": [
    "#  Python Class 02"
   ]
  },
  {
   "cell_type": "code",
   "execution_count": 1,
   "metadata": {},
   "outputs": [
    {
     "name": "stdout",
     "output_type": "stream",
     "text": [
      "Enter your age 20\n",
      "You are allowed to ride\n"
     ]
    }
   ],
   "source": [
    "# if else\n",
    "\n",
    "age = int(input(\"Enter your age \"))\n",
    "if age >= 18:\n",
    "   print(\"You are allowed to ride\")\n",
    "else:\n",
    "   print(\"you are not allowed to ride\")"
   ]
  },
  {
   "cell_type": "code",
   "execution_count": 2,
   "metadata": {},
   "outputs": [
    {
     "name": "stdout",
     "output_type": "stream",
     "text": [
      "Correct Answer!!!\n"
     ]
    }
   ],
   "source": [
    "# if else\n",
    "\n",
    "x = 10\n",
    "y = 12\n",
    "a = 30\n",
    "b = 8\n",
    "\n",
    "if x + y == a - b:\n",
    "    print(\"Correct Answer!!!\")\n",
    "else:\n",
    "    print(\"Wrong Answer!!!\")"
   ]
  },
  {
   "cell_type": "code",
   "execution_count": 3,
   "metadata": {},
   "outputs": [
    {
     "name": "stdout",
     "output_type": "stream",
     "text": [
      "Wrong Answer!!!\n"
     ]
    }
   ],
   "source": [
    "# if else\n",
    "\n",
    "x = 10\n",
    "y = 12\n",
    "a = 30\n",
    "b = 8\n",
    "\n",
    "if x + y != a - b:\n",
    "    print(\"Correct Answer!!!\")\n",
    "else:\n",
    "    print(\"Wrong Answer!!!\")"
   ]
  },
  {
   "cell_type": "code",
   "execution_count": 4,
   "metadata": {},
   "outputs": [
    {
     "name": "stdout",
     "output_type": "stream",
     "text": [
      "Enter your percentage 75\n",
      "You got A\n"
     ]
    }
   ],
   "source": [
    "# Finding Grades through percentage\n",
    "\n",
    "per = int(input(\"Enter your percentage \"))\n",
    "if per >= 80 and per <= 100:\n",
    "    print(\"You got A+\")\n",
    "elif per >= 70 and per < 80:\n",
    "    print(\"You got A\")\n",
    "elif per >= 60 and per < 70:\n",
    "    print(\"You got B\")\n",
    "elif per >= 50 and per < 60:\n",
    "    print(\"You got C\")\n",
    "elif per >= 40 and per < 50:\n",
    "    print(\"You got D\")\n",
    "else:\n",
    "    print(\"You put wrong percentage\")"
   ]
  },
  {
   "cell_type": "code",
   "execution_count": 5,
   "metadata": {},
   "outputs": [
    {
     "name": "stdout",
     "output_type": "stream",
     "text": [
      "0\n"
     ]
    }
   ],
   "source": [
    "# if else\n",
    "\n",
    "a = 5\n",
    "b = 6\n",
    "c = 7\n",
    "d = 7\n",
    "e = 9\n",
    "f = 10\n",
    "g = 11\n",
    "x = 12\n",
    "y = 12\n",
    "h = 0\n",
    "\n",
    "if (a == b or x == y) and c == d:\n",
    "   g = h\n",
    "   print(g)\n",
    "else:\n",
    "    e = f\n",
    "    print(e)"
   ]
  },
  {
   "cell_type": "code",
   "execution_count": 6,
   "metadata": {},
   "outputs": [
    {
     "name": "stdout",
     "output_type": "stream",
     "text": [
      "10\n"
     ]
    }
   ],
   "source": [
    "# if else\n",
    "\n",
    "a = 5\n",
    "b = 6\n",
    "c = 7\n",
    "d = 7\n",
    "e = 9\n",
    "f = 10\n",
    "g = 11\n",
    "x = 12\n",
    "y = 13\n",
    "h = 0\n",
    "\n",
    "if (a == b or x == y) and c == d:\n",
    "   g = h\n",
    "   print(g)\n",
    "else:\n",
    "    e = f\n",
    "    print(e)"
   ]
  },
  {
   "cell_type": "code",
   "execution_count": 7,
   "metadata": {},
   "outputs": [
    {
     "name": "stdout",
     "output_type": "stream",
     "text": [
      "0\n"
     ]
    }
   ],
   "source": [
    "# Nested if\n",
    "\n",
    "a = 5\n",
    "b = 6\n",
    "c = 7\n",
    "d = 7\n",
    "e = 9\n",
    "f = 10\n",
    "g = 11\n",
    "x = 12\n",
    "y = 12\n",
    "h = 0\n",
    "\n",
    "if c == d:\n",
    "  if a == b:\n",
    "    g = h\n",
    "    print(g)\n",
    "  elif x == y:\n",
    "    g = h\n",
    "    print(g)\n",
    "  else:\n",
    "    e = f\n",
    "    print(e)\n",
    "else:\n",
    "    e = f\n",
    "    print(e)"
   ]
  },
  {
   "cell_type": "code",
   "execution_count": 8,
   "metadata": {},
   "outputs": [
    {
     "name": "stdout",
     "output_type": "stream",
     "text": [
      "10\n"
     ]
    }
   ],
   "source": [
    "# Nested if\n",
    "\n",
    "a = 5\n",
    "b = 6\n",
    "c = 7\n",
    "d = 7\n",
    "e = 9\n",
    "f = 10\n",
    "g = 11\n",
    "x = 12\n",
    "y = 13\n",
    "h = 0\n",
    "\n",
    "if c == d:\n",
    "  if a == b:\n",
    "    g = h\n",
    "    print(g)\n",
    "  elif x == y:\n",
    "    g = h\n",
    "    print(g)\n",
    "  else:\n",
    "    e = f\n",
    "    print(e)\n",
    "else:\n",
    "    e = f\n",
    "    print(e)"
   ]
  },
  {
   "cell_type": "code",
   "execution_count": 9,
   "metadata": {},
   "outputs": [
    {
     "name": "stdout",
     "output_type": "stream",
     "text": [
      "['Manzar', 'Alam', True, False, 10000, 0.22]\n"
     ]
    }
   ],
   "source": [
    "# Array\n",
    "\n",
    "arr = [\"Manzar\" , \"Alam\" , True , False , 10000 , 0.22]\n",
    "print(arr)"
   ]
  },
  {
   "cell_type": "code",
   "execution_count": 10,
   "metadata": {},
   "outputs": [
    {
     "name": "stdout",
     "output_type": "stream",
     "text": [
      "Manzar\n"
     ]
    }
   ],
   "source": [
    "# Print desired value through indexing\n",
    "\n",
    "print(arr[0])"
   ]
  },
  {
   "cell_type": "code",
   "execution_count": 11,
   "metadata": {},
   "outputs": [
    {
     "name": "stdout",
     "output_type": "stream",
     "text": [
      "10000\n"
     ]
    }
   ],
   "source": [
    "# print any desired value from array\n",
    "\n",
    "print(arr[4])"
   ]
  },
  {
   "cell_type": "code",
   "execution_count": 12,
   "metadata": {},
   "outputs": [
    {
     "name": "stdout",
     "output_type": "stream",
     "text": [
      "['Manzar', 'Alam', True, False, 10000, 0.22, 'Edit array']\n"
     ]
    }
   ],
   "source": [
    "# Adding only 1 value in the array\n",
    "\n",
    "arr.append(\"Edit array\")\n",
    "print(arr)"
   ]
  },
  {
   "cell_type": "code",
   "execution_count": 13,
   "metadata": {},
   "outputs": [
    {
     "name": "stdout",
     "output_type": "stream",
     "text": [
      "['Manzar', 'Alam', True, False, 10000, 0.22, 'Edit array', 'Adding Again', 'Two Strings']\n"
     ]
    }
   ],
   "source": [
    "# adding two or mores values\n",
    "\n",
    "arr1 = arr + [\"Adding Again\" , \"Two Strings\"]\n",
    "print(arr1)"
   ]
  },
  {
   "cell_type": "code",
   "execution_count": 14,
   "metadata": {},
   "outputs": [
    {
     "name": "stdout",
     "output_type": "stream",
     "text": [
      "['Manzar', 'Alam', 'Ansari', True, False, 10000, 0.22, 'Edit array', 'Adding Again', 'Two Strings']\n"
     ]
    }
   ],
   "source": [
    "# insert any value on particular index numbers\n",
    "\n",
    "arr1.insert (2 , \"Ansari\")\n",
    "print(arr1)"
   ]
  },
  {
   "cell_type": "code",
   "execution_count": 15,
   "metadata": {},
   "outputs": [
    {
     "name": "stdout",
     "output_type": "stream",
     "text": [
      "['Manzar', 'Alam', 'Ansari', True, False, 10000, 0.22, 'Edit array', 'Adding Again', 'Replacing Str']\n"
     ]
    }
   ],
   "source": [
    "# replacing values of array\n",
    "\n",
    "arr1[9] = \"Replacing Str\"\n",
    "print(arr1)"
   ]
  },
  {
   "cell_type": "code",
   "execution_count": 16,
   "metadata": {},
   "outputs": [
    {
     "name": "stdout",
     "output_type": "stream",
     "text": [
      "['Edit array']\n"
     ]
    }
   ],
   "source": [
    "# slicing means starting from the start point and then end before the ending point\n",
    "\n",
    "arr2 = arr1[7 : 8]\n",
    "print(arr2)"
   ]
  },
  {
   "cell_type": "code",
   "execution_count": 17,
   "metadata": {},
   "outputs": [
    {
     "name": "stdout",
     "output_type": "stream",
     "text": [
      "['Alam', 'Ansari']\n"
     ]
    }
   ],
   "source": [
    "# slicing\n",
    "\n",
    "arr3 = arr1[1 : 3]\n",
    "print(arr3)"
   ]
  },
  {
   "cell_type": "code",
   "execution_count": 18,
   "metadata": {},
   "outputs": [
    {
     "name": "stdout",
     "output_type": "stream",
     "text": [
      "['Manzar', 'Alam']\n"
     ]
    }
   ],
   "source": [
    "# if we don't mention starting point then starting point will be index (0) by default\n",
    "\n",
    "arr4 = arr[:2]\n",
    "print(arr4)"
   ]
  },
  {
   "cell_type": "code",
   "execution_count": 19,
   "metadata": {},
   "outputs": [
    {
     "name": "stdout",
     "output_type": "stream",
     "text": [
      "['Alam']\n"
     ]
    }
   ],
   "source": [
    "# Deleting value by index number\n",
    "\n",
    "del arr3[1]\n",
    "print(arr3)"
   ]
  },
  {
   "cell_type": "code",
   "execution_count": 20,
   "metadata": {},
   "outputs": [
    {
     "name": "stdout",
     "output_type": "stream",
     "text": [
      "['Manzar', 'Alam', True, False, 10000, 'Edit array']\n"
     ]
    }
   ],
   "source": [
    "# Deleting value by value or name\n",
    "\n",
    "arr.remove(0.22)\n",
    "print(arr)"
   ]
  },
  {
   "cell_type": "code",
   "execution_count": 21,
   "metadata": {},
   "outputs": [
    {
     "name": "stdout",
     "output_type": "stream",
     "text": [
      "Edit array\n"
     ]
    }
   ],
   "source": [
    "# print last value of the array\n",
    "\n",
    "arr4 = arr.pop()\n",
    "print(arr4)"
   ]
  },
  {
   "cell_type": "code",
   "execution_count": null,
   "metadata": {},
   "outputs": [],
   "source": []
  }
 ],
 "metadata": {
  "kernelspec": {
   "display_name": "Python 3",
   "language": "python",
   "name": "python3"
  },
  "language_info": {
   "codemirror_mode": {
    "name": "ipython",
    "version": 3
   },
   "file_extension": ".py",
   "mimetype": "text/x-python",
   "name": "python",
   "nbconvert_exporter": "python",
   "pygments_lexer": "ipython3",
   "version": "3.7.4"
  }
 },
 "nbformat": 4,
 "nbformat_minor": 2
}

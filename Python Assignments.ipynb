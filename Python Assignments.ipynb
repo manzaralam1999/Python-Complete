{
 "cells": [
  {
   "cell_type": "markdown",
   "metadata": {},
   "source": [
    "# Assignments Of Python"
   ]
  },
  {
   "cell_type": "code",
   "execution_count": 3,
   "metadata": {},
   "outputs": [
    {
     "name": "stdout",
     "output_type": "stream",
     "text": [
      "Twinkle, twinkle, little star,\n",
      "      How I wonder what you are!\n",
      "            Up above the world so high,\n",
      "            Like a diamond in the sky.\n",
      "Twinkle, twinkle, little star,\n",
      "       How I wonder what you are\n"
     ]
    }
   ],
   "source": [
    "\"\"\"Q1. Write a Python program to print the following string in a specific format (see the output). \n",
    " \n",
    "        Twinkle, twinkle, little star,\n",
    "               How I wonder what you are!\n",
    "                      Up above the world so high,\n",
    "                      Like a diamond in the sky.\n",
    "        Twinkle, twinkle, little star,\n",
    "               How I wonder what you are\"\"\"\n",
    "\n",
    "\n",
    "# Answer\n",
    "\n",
    "t=\"Twinkle, twinkle, little star,\\n      How I wonder what you are!\"\n",
    "h=\"\\n            Up above the world so high,\\n            Like a diamond in the sky.\"\n",
    "w=\"\\nTwinkle, twinkle, little star,\\n       How I wonder what you are\"\n",
    "print(t + h + w )"
   ]
  },
  {
   "cell_type": "code",
   "execution_count": 4,
   "metadata": {},
   "outputs": [
    {
     "name": "stdout",
     "output_type": "stream",
     "text": [
      "phyton version is given below:\n",
      "3.7.4\n"
     ]
    }
   ],
   "source": [
    "# Q2. Write a Python program to get the Python version you are using\n",
    "\n",
    "# Answer\n",
    "\n",
    "import platform\n",
    "print(\"phyton version is given below:\")\n",
    "print(platform.python_version())"
   ]
  },
  {
   "cell_type": "code",
   "execution_count": 5,
   "metadata": {},
   "outputs": [
    {
     "name": "stdout",
     "output_type": "stream",
     "text": [
      "Today's date: 2020-01-12\n"
     ]
    }
   ],
   "source": [
    "# Q3.  Write a Python program to display the current date and time.\n",
    "\n",
    "# Answer\n",
    "\n",
    "from datetime import date\n",
    "today = date.today()\n",
    "print(\"Today's date:\", today)"
   ]
  },
  {
   "cell_type": "code",
   "execution_count": 6,
   "metadata": {},
   "outputs": [
    {
     "name": "stdout",
     "output_type": "stream",
     "text": [
      "Please Enter radius below\n",
      "5\n",
      "Area of circle with radius 5 is =78.5\n"
     ]
    }
   ],
   "source": [
    "# Q4. Write a Python program which accepts the radius of a circle from the user and compute the area.\n",
    "\n",
    "# Answer\n",
    "\n",
    "r = int(input(\"Please Enter radius below\\n\"))\n",
    "A =3.14*r**2\n",
    "print(\"Area of circle with radius \"+str(r) + \" is =\" + str(A))"
   ]
  },
  {
   "cell_type": "code",
   "execution_count": 7,
   "metadata": {},
   "outputs": [
    {
     "name": "stdout",
     "output_type": "stream",
     "text": [
      "please Enter first name\n",
      "Manzar\n",
      "please Enter last name\n",
      "Alam\n",
      "raznaM malA\n"
     ]
    }
   ],
   "source": [
    "# Q5.  Write a Python program which accepts the user's first and last name and print them in reverse order with a space between them.\n",
    "\n",
    "# Answer\n",
    "\n",
    "I1 = input(\"please Enter first name\\n\")\n",
    "I2 = input(\"please Enter last name\\n\")\n",
    "\n",
    "print(I1[::-1] + \" \" + I2[::-1])"
   ]
  },
  {
   "cell_type": "code",
   "execution_count": 8,
   "metadata": {},
   "outputs": [
    {
     "name": "stdout",
     "output_type": "stream",
     "text": [
      "Please Enter first number\n",
      "9\n",
      "Plase Enter second number\n",
      "7\n",
      "Result:16\n"
     ]
    }
   ],
   "source": [
    "# Q6. Write a python program which takes two inputs from user and print them addition\n",
    "\n",
    "# Answer\n",
    "\n",
    "I1 =int(input(\"Please Enter first number\\n\"))\n",
    "I2 =int(input(\"Plase Enter second number\\n\"))\n",
    "result = I1 +I2\n",
    "\n",
    "print(\"Result:\" + str(result))"
   ]
  },
  {
   "cell_type": "code",
   "execution_count": 23,
   "metadata": {},
   "outputs": [
    {
     "name": "stdout",
     "output_type": "stream",
     "text": [
      "Please Enter Mathematics Marks :    64\n",
      "Please Enter Physics Marks  :    45\n",
      "Please Enter PST Marks   :    45\n",
      "Please Enter Urdu Marks   :    70\n",
      "Please Enter English Marks  :    85\n",
      "Your Grade : B\n",
      "Your Percentage is 61.8\n"
     ]
    }
   ],
   "source": [
    "# Q7. Write a program which takes 5 inputs from user for different subject’s marks, total it and generate mark sheet using grades?\n",
    "\n",
    "# Answer\n",
    "\n",
    "Mathematics =int(input(\"Please Enter Mathematics Marks :    \"))\n",
    "Physics = int(input(\"Please Enter Physics Marks  :    \"))\n",
    "PST =int(input(\"Please Enter PST Marks   :    \"))\n",
    "Urdu =int(input(\"Please Enter Urdu Marks   :    \"))\n",
    "English = int(input(\"Please Enter English Marks  :    \"))\n",
    "\n",
    "\n",
    "\n",
    "total = Mathematics + Physics + PST + Urdu + English\n",
    "\n",
    "per = (total / 500) * 100\n",
    "\n",
    "if per <= 100 and per >= 80 :\n",
    "    print(\"Your Grade : A+\")\n",
    "    print(\"Your Percentage is \" + str(per))\n",
    "elif per < 80 and per >=70 :\n",
    "    print(\"Your Grade : A\")\n",
    "    print(\"Your Percentage is \" + str(per))\n",
    "elif per < 70 and per >=60 :\n",
    "    print(\"Your Grade : B\")\n",
    "    print(\"Your Percentage is \" + str(per))\n",
    "elif per < 60 and per >=50 :\n",
    "    print(\"Your Grade : C\")\n",
    "    print(\"Your Percentage is \" + str(per))\n",
    "elif per < 50 and per >=40 :\n",
    "    print(\"Your Grade : D\")\n",
    "    print(\"Your Percentage is \" + str(per))\n",
    "elif per < 40 and per >=33 :\n",
    "    print(\"Your Grade : E\")\n",
    "    print(\"Your Percentage is \" + str(per))\n",
    "elif per < 33 and per >=0 :\n",
    "    print(\"Sorry ! You got Fail!\")\n",
    "    print(\"Your Percentage is \" + str(per))"
   ]
  },
  {
   "cell_type": "code",
   "execution_count": 10,
   "metadata": {},
   "outputs": [
    {
     "name": "stdout",
     "output_type": "stream",
     "text": [
      "Enter Any Number 9\n",
      "The number is ODD\n"
     ]
    }
   ],
   "source": [
    "# Q8. Write a program which take input from user and identify that the given number is even or odd?\n",
    "\n",
    "# Answer\n",
    "\n",
    "a = int(input(\"Enter Any Number \"))\n",
    "\n",
    "if a % 2 == 0 :\n",
    "    print(\"The number is EVEN\")\n",
    "else :\n",
    "    print(\"The number is ODD\")"
   ]
  },
  {
   "cell_type": "code",
   "execution_count": 11,
   "metadata": {},
   "outputs": [
    {
     "name": "stdout",
     "output_type": "stream",
     "text": [
      "The length of list is  5\n"
     ]
    }
   ],
   "source": [
    "# Q9. Write a program which print the length of the list?\n",
    "\n",
    "# Answer\n",
    "\n",
    "arr = [1,3,5,7,9]\n",
    "print(\"The length of list is \",len(arr))"
   ]
  },
  {
   "cell_type": "code",
   "execution_count": 18,
   "metadata": {},
   "outputs": [
    {
     "name": "stdout",
     "output_type": "stream",
     "text": [
      "6\n"
     ]
    }
   ],
   "source": [
    "# Second Metho\n",
    "\n",
    "# Q9. Write a program which print the length of the list?\n",
    "\n",
    "# Answer\n",
    "\n",
    "list1 = [1,2,3,4,5,7]\n",
    "count = 0\n",
    "for x in range(len(list1)):\n",
    "     count += 1\n",
    "print(count)"
   ]
  },
  {
   "cell_type": "code",
   "execution_count": 12,
   "metadata": {},
   "outputs": [
    {
     "name": "stdout",
     "output_type": "stream",
     "text": [
      "Sum of all numeric item of list is  209\n"
     ]
    }
   ],
   "source": [
    "# Q10. Write a Python program to sum all the numeric items in a list?\n",
    "\n",
    "# Answer\n",
    "\n",
    "arr = [0,9,55,45,100]\n",
    "print(\"Sum of all numeric item of list is \",sum(arr))"
   ]
  },
  {
   "cell_type": "code",
   "execution_count": 14,
   "metadata": {},
   "outputs": [
    {
     "name": "stdout",
     "output_type": "stream",
     "text": [
      "21\n"
     ]
    }
   ],
   "source": [
    "# Second Method\n",
    "\n",
    "# Q10. Write a Python program to sum all the numeric items in a list?\n",
    "\n",
    "# Answer\n",
    "\n",
    "list1 = [1,2,3,4,5,6]\n",
    "sum = 0\n",
    "for x in range(len(list1)):\n",
    "     sum = list1[x] + sum \n",
    "print(sum)"
   ]
  },
  {
   "cell_type": "code",
   "execution_count": 15,
   "metadata": {},
   "outputs": [
    {
     "name": "stdout",
     "output_type": "stream",
     "text": [
      "Largest Number of list is  444\n"
     ]
    }
   ],
   "source": [
    "# Q11. Write a Python program to get the largest number from a numeric list.\n",
    "\n",
    "# Answer\n",
    "\n",
    "arr =[1,3,444,74,9,25]\n",
    "print(\"Largest Number of list is \",max(arr))"
   ]
  },
  {
   "cell_type": "code",
   "execution_count": 20,
   "metadata": {},
   "outputs": [
    {
     "name": "stdout",
     "output_type": "stream",
     "text": [
      "-1\n"
     ]
    }
   ],
   "source": [
    "# Second Method\n",
    "\n",
    "# Q11. Write a Python program to get the largest number from a numeric list.\n",
    "\n",
    "# Answer\n",
    "\n",
    "import sys\n",
    "list1 = [-1,-2,-3,-4,-5,-34]\n",
    "max1 = -sys.maxsize -1\n",
    "for x in range(len(list1)):\n",
    "    if(list1[x] > max1 ):\n",
    "      max1 = list1[x]\n",
    "print(max1)"
   ]
  },
  {
   "cell_type": "code",
   "execution_count": 21,
   "metadata": {},
   "outputs": [
    {
     "name": "stdout",
     "output_type": "stream",
     "text": [
      "1\n",
      "1\n",
      "2\n",
      "3\n"
     ]
    }
   ],
   "source": [
    "\"\"\"Q12. Take a list, say for example this one:\n",
    "        a = [1, 1, 2, 3, 5, 8, 13, 21, 34, 55, 89]\n",
    "        and write a program that prints out all the elements of the list that are less than 5. \"\"\"\n",
    "\n",
    "# Answer\n",
    "\n",
    "a = [1,1,2,3,5,8,13,21,34,55,89]\n",
    "for i in a:\n",
    "    if i < 5:\n",
    "        print(i)"
   ]
  },
  {
   "cell_type": "code",
   "execution_count": 22,
   "metadata": {},
   "outputs": [
    {
     "name": "stdout",
     "output_type": "stream",
     "text": [
      "0\n",
      "1\n",
      "2\n",
      "3\n",
      "4\n"
     ]
    }
   ],
   "source": [
    "# Second Method\n",
    "\n",
    "\"\"\"Q12. Take a list, say for example this one:\n",
    "        a = [1, 1, 2, 3, 5, 8, 13, 21, 34, 55, 89]\n",
    "        and write a program that prints out all the elements of the list that are less than 5. \"\"\"\n",
    "\n",
    "# Answer\n",
    "\n",
    "list1 = [0,1,2,3,4,5,6]\n",
    "for x in range(len(list1)):\n",
    "     if(list1[x] < 5):\n",
    "             print(list1[x])"
   ]
  },
  {
   "cell_type": "code",
   "execution_count": 30,
   "metadata": {},
   "outputs": [
    {
     "name": "stdout",
     "output_type": "stream",
     "text": [
      "Enter first value 7\n",
      "Enter second value 2\n",
      "Select Any Operator **\n",
      "49 answer\n"
     ]
    }
   ],
   "source": [
    "# Q13. Make a calculator using Python with addition , subtraction , multiplication , division and power.\n",
    "\n",
    "# Answer\n",
    "\n",
    "m = int(input(\"Enter first value \"))\n",
    "a = int(input(\"Enter second value \"))\n",
    "operator = (input (\"Select Any Operator \"))\n",
    "\n",
    "if operator == '+':\n",
    "    z = m + a\n",
    "    print (z,'answer')\n",
    "elif operator == '-':\n",
    "    z = m - a\n",
    "    print (z,'answer')\n",
    "elif operator == '*':\n",
    "    z = m * a\n",
    "    print (z,'answer')\n",
    "elif operator == '/':\n",
    "    z = m / a\n",
    "    print (z,'answer')\n",
    "elif operator == '**':\n",
    "    z = m ** a\n",
    "    print (z,'answer')\n",
    "else:\n",
    "    print(\"You Put inappropriate operator\")"
   ]
  },
  {
   "cell_type": "code",
   "execution_count": 1,
   "metadata": {},
   "outputs": [
    {
     "name": "stdout",
     "output_type": "stream",
     "text": [
      "Enter '+' for addition\n",
      "Enter '-' for Substraction\n",
      "Enter '*' for Multiplication\n",
      "Enter '/' for Division\n",
      "Enter '**' for Power\n",
      "\n",
      "Enter first value: 8\n",
      "Enter operator = **\n",
      "Enter second value: 9\n",
      "Answer :  134217728\n"
     ]
    }
   ],
   "source": [
    "# Second Method\n",
    "\n",
    "# Q13. Make a calculator using Python with addition , subtraction , multiplication , division and power.\n",
    "\n",
    "# Answer\n",
    "\n",
    "print(\"Enter '+' for addition\")\n",
    "print(\"Enter '-' for Substraction\")\n",
    "print(\"Enter '*' for Multiplication\")\n",
    "print(\"Enter '/' for Division\")\n",
    "print(\"Enter '**' for Power\\n\")\n",
    "\n",
    "val1 = input('Enter first value: ')\n",
    "operator = input('Enter operator = ')\n",
    "val2 = input('Enter second value: ')\n",
    "\"\"\"val1 == int(val1)\n",
    "   val2 == int(val2)\n",
    "   is trha se bhi int mai convert ke skte han\"\"\"\n",
    "if operator == '+' :\n",
    "    val = int(val1) + int(val2)\n",
    "    print('Answer : ',val)\n",
    "elif operator == '-' :\n",
    "    val = int(val1) - int(val2)\n",
    "    print('Answer : ',val)\n",
    "elif operator == '*' :\n",
    "    val = int(val1) * int(val2)\n",
    "    print('Answer : ',val)\n",
    "elif operator == '/' :\n",
    "    val = int(val1) // int(val2)\n",
    "    print('Answer : ',val)\n",
    "elif operator == '**' :\n",
    "    val = int(val1) ** int(val2)\n",
    "    print('Answer : ',val)\n",
    "else :\n",
    "    print('Enter Correct Operator!')"
   ]
  },
  {
   "cell_type": "code",
   "execution_count": 2,
   "metadata": {},
   "outputs": [
    {
     "name": "stdout",
     "output_type": "stream",
     "text": [
      "numeric value is : 1\n",
      "string value is : Orange\n",
      "numeric value is : 2\n",
      "numeric value is : 54\n",
      "string value is : Apple\n",
      "numeric value is : 3\n",
      "numeric value is : 4\n"
     ]
    }
   ],
   "source": [
    "# Q14. Write a program to check if there is any numeric value in list using for loop\n",
    "\n",
    "# Answer\n",
    "\n",
    "mylist = [1,'Orange',2,54,'Apple',3,4]\n",
    "\n",
    "for a in mylist:\n",
    "    if isinstance(a,int):\n",
    "        print(\"numeric value is :\",a)\n",
    "    else:#optional\n",
    "        print(\"string value is :\",a)"
   ]
  },
  {
   "cell_type": "code",
   "execution_count": 3,
   "metadata": {},
   "outputs": [
    {
     "name": "stdout",
     "output_type": "stream",
     "text": [
      "55\n",
      "900\n",
      "5\n"
     ]
    }
   ],
   "source": [
    "# Second Method\n",
    "\n",
    "# Q14. Write a program to check if there is any numeric value in list using for loop\n",
    "\n",
    "# Answer\n",
    "\n",
    "list1 = [\"Apple\", \"Mango\", \"Banana\", \"Karachi\", 55, 900, 5]\n",
    "for a_numeric_number in list1:\n",
    "    if type(a_numeric_number) == int:\n",
    "        print(a_numeric_number)"
   ]
  },
  {
   "cell_type": "code",
   "execution_count": 4,
   "metadata": {},
   "outputs": [
    {
     "name": "stdout",
     "output_type": "stream",
     "text": [
      "{'first name': 'David', 'last name': 'Elliott', 'address': '4803 Wellesley St.', 'street no': '05'}\n"
     ]
    }
   ],
   "source": [
    "# Q15. Write a Python script to add a key to a dictionary \n",
    "\n",
    "# Answer\n",
    "\n",
    "customer = {\n",
    "    \"first name\": \"David\", \n",
    "    \"last name\": \"Elliott\", \n",
    "    \"address\": \"4803 Wellesley St.\"\n",
    "} \n",
    "customer[\"street no\"] = '05'\n",
    "print(customer)"
   ]
  },
  {
   "cell_type": "code",
   "execution_count": 5,
   "metadata": {},
   "outputs": [
    {
     "name": "stdout",
     "output_type": "stream",
     "text": [
      "{'first name': 'Bill', 'last name': 'Gates', 'language': 'English', 'country': 'USA'}\n"
     ]
    }
   ],
   "source": [
    "# Second Method\n",
    "\n",
    "# Q15. Write a Python script to add a key to a dictionary \n",
    "\n",
    "# Answer\n",
    "\n",
    "customer = {\n",
    "    \"first name\": \"Bill\",\n",
    "    \"last name\": \"Gates\",\n",
    "    \"language\": \"English\"\n",
    "}\n",
    "customer[\"country\"] = 'USA'\n",
    "print(customer)"
   ]
  },
  {
   "cell_type": "code",
   "execution_count": 6,
   "metadata": {},
   "outputs": [
    {
     "name": "stdout",
     "output_type": "stream",
     "text": [
      "Enter key :3\n",
      "Enter value :Manzar\n",
      "{'3': 'Manzar'}\n"
     ]
    }
   ],
   "source": [
    "# Third Method\n",
    "\n",
    "# Q15. Write a Python script to add a key to a dictionary\n",
    "\n",
    "# Answer\n",
    "\n",
    "dic = {}\n",
    "keyinput = input(\"Enter key :\")\n",
    "valueinput = input(\"Enter value :\")\n",
    "dic.update({keyinput:valueinput})\n",
    "\n",
    "print(dic)"
   ]
  },
  {
   "cell_type": "code",
   "execution_count": 7,
   "metadata": {},
   "outputs": [
    {
     "name": "stdout",
     "output_type": "stream",
     "text": [
      "Sum of all numeric items in a dictionary  11\n"
     ]
    }
   ],
   "source": [
    "# Q16. Write a Python program to sum all the numeric items in a dictionary\n",
    "\n",
    "# Answer\n",
    "\n",
    "customer = {\n",
    "    'a': 4,\n",
    "    'b': 1,\n",
    "    'c': 6,\n",
    "    'd': 'apple'\n",
    "}\n",
    "sum = 0\n",
    "for i in customer.values():\n",
    "    if type(i) == int:\n",
    "        sum += i\n",
    "print(\"Sum of all numeric items in a dictionary \",sum)"
   ]
  },
  {
   "cell_type": "code",
   "execution_count": 8,
   "metadata": {},
   "outputs": [
    {
     "name": "stdout",
     "output_type": "stream",
     "text": [
      "28 is dublicate\n",
      "star is dublicate\n",
      "5 is dublicate\n"
     ]
    }
   ],
   "source": [
    "# Q17. Write a program to identify duplicate values from list \n",
    " \n",
    "# Answer\n",
    "\n",
    "list1 =[28,17,'karachi',5,'star',28,'star',5]\n",
    "dup=[]\n",
    "for i in list1:\n",
    "    for j in dup:\n",
    "        if (i == j):\n",
    "            print(i,'is dublicate')\n",
    "    dup.append(i)"
   ]
  },
  {
   "cell_type": "code",
   "execution_count": 11,
   "metadata": {},
   "outputs": [
    {
     "name": "stdout",
     "output_type": "stream",
     "text": [
      "Enter key Name check if exist or not a\n",
      "Given key Exist\n"
     ]
    }
   ],
   "source": [
    "# Q18. Write a Python script to check if a given key already exists in a dictionary\n",
    "\n",
    "# Answer\n",
    "\n",
    "dito = {\n",
    "    'a': 12,\n",
    "    'b': 15 ,\n",
    "    'c' : 'fraz' , \n",
    "    'd' : 3\n",
    "       }\n",
    "check_key =input(\"Enter key Name check if exist or not \")\n",
    "flag = False\n",
    "for i in dito.keys():\n",
    "    if i==check_key:\n",
    "        flag = True\n",
    "        break\n",
    "if flag:\n",
    "    print(\"Given key Exist\")\n",
    "else:\n",
    "    print(\"Given key does not Exist\")"
   ]
  },
  {
   "cell_type": "code",
   "execution_count": 12,
   "metadata": {},
   "outputs": [
    {
     "name": "stdout",
     "output_type": "stream",
     "text": [
      "Manzar\n",
      "Alam\n",
      "69\n",
      "karachi\n",
      "High Acadmic Level\n",
      "{'first_name': 'Manzar', 'last_name': 'Alam', 'age': 69, 'city': 'karachi'}\n"
     ]
    }
   ],
   "source": [
    "\"\"\"Q19. Use a dictionary to store information about a person you know. Store their first name, last name, age, and the city in which they live. You should have keys such as first_name, last_name, age, and city. Print each piece of information stored in your dictionary. Add a new key value pair about qualification then update the qualification value to high academic level then delete it.\"\"\"\n",
    "\n",
    "# Answer\n",
    "\n",
    "person = {\n",
    "    'first_name': 'Manzar',\n",
    "    'last_name': 'Alam',\n",
    "    'age': 69,\n",
    "    'city': 'karachi',\n",
    "    }\n",
    "\n",
    "print(person['first_name'])\n",
    "print(person['last_name'])\n",
    "print(person['age'])\n",
    "print(person['city'])\n",
    "person.update( {'qualification' : 'High Acadmic Level'} )\n",
    "print(person['qualification'])\n",
    "del person['qualification']\n",
    "print(person)"
   ]
  },
  {
   "cell_type": "code",
   "execution_count": 13,
   "metadata": {},
   "outputs": [
    {
     "name": "stdout",
     "output_type": "stream",
     "text": [
      "\n",
      "Karachi is in Pakistan.\n",
      "  It has a population of about 6158080.\n",
      "  The K2 mountains are nearby.\n",
      "\n",
      "Hong Kong is in China.\n",
      "  It has a population of about 876.\n",
      "  The K2 Range mountains are nearby.\n",
      "\n",
      "Kathmandu is in Nepal.\n",
      "  It has a population of about 1003285.\n",
      "  The Himilaya mountains are nearby.\n"
     ]
    }
   ],
   "source": [
    "\"\"\"Q20. Make a dictionary called cities. Use the names of three cities as keys in your dictionary. Create a dictionary of information about each city and include the country that the city is in, its approximate population, and one fact about that city. The keys for each city’s dictionary should be something like country, population, and fact. Print the name of each city and all of the information you have stored about it.\"\"\"\n",
    "\n",
    "# Answer\n",
    "\n",
    "cities = {\n",
    "    'Karachi': {\n",
    "        'country': 'Pakistan',\n",
    "        'population': 6158080,\n",
    "        'nearby mountains': 'K2',\n",
    "        },\n",
    "    'Hong Kong': {\n",
    "        'country': 'China',\n",
    "        'population': 876,\n",
    "        'nearby mountains': 'K2 range',\n",
    "        },\n",
    "    'kathmandu': {\n",
    "        'country': 'nepal',\n",
    "        'population': 1003285,\n",
    "        'nearby mountains': 'himilaya',\n",
    "        }\n",
    "    }\n",
    "\n",
    "for city, city_info in cities.items():\n",
    "    country = city_info['country'].title()\n",
    "    population = city_info['population']\n",
    "    mountains = city_info['nearby mountains'].title()\n",
    "\n",
    "    print(\"\\n\" + city.title() + \" is in \" + country + \".\")\n",
    "    print(\"  It has a population of about \" + str(population) + \".\")\n",
    "    print(\"  The \" + mountains + \" mountains are nearby.\")"
   ]
  },
  {
   "cell_type": "code",
   "execution_count": 14,
   "metadata": {},
   "outputs": [
    {
     "name": "stdout",
     "output_type": "stream",
     "text": [
      "Welcome in Movie theater\n",
      "Enter the no of person : 4\n",
      "Enter your Age: 2\n",
      "The ticket is free. Enjoy :-)\n",
      "Enter your Age: 5\n",
      "The ticket is $10.\n",
      "Enter your Age: 12\n",
      "The ticket is $10.\n",
      "Enter your Age: 17\n",
      "The ticket is $15.\n",
      "Total Amount = 35 $\n"
     ]
    }
   ],
   "source": [
    "\"\"\"Q21. A movie theater charges different ticket prices depending on a person’s age. If a person is under the age of 3, the ticket is free; if they are between 3 and 12, the ticket is $10; and if they are over age 12, the ticket is $15. Write a loop in which you ask users their age, and then tell them the cost of their movie ticket.\"\"\"\n",
    "\n",
    "# Answer\n",
    "\n",
    "print(\"Welcome in Movie theater\")\n",
    "person = int(input(\"Enter the no of person : \"))\n",
    "total_cost = 0\n",
    "for i in range(1,person+1):\n",
    "    age = int(input(\"Enter your Age: \"))\n",
    "    if age <= 3 :\n",
    "        print(\"The ticket is free. Enjoy :-)\")\n",
    "        total_cost += 0\n",
    "    elif age > 3 and age <= 12:\n",
    "        print(\"The ticket is $10.\")\n",
    "        total_cost += 10\n",
    "    elif age > 12:\n",
    "        print(\"The ticket is $15.\")\n",
    "        total_cost += 15\n",
    "    else:\n",
    "        print(\"Wrong Entry. Try Again.\")\n",
    "print(\"Total Amount =\",total_cost,\"$\")"
   ]
  },
  {
   "cell_type": "code",
   "execution_count": 15,
   "metadata": {},
   "outputs": [
    {
     "name": "stdout",
     "output_type": "stream",
     "text": [
      "Please Enter the book title : Quran\n",
      "One of my favorite book is Quran\n"
     ]
    }
   ],
   "source": [
    "\"\"\"Q22. Write a function called favorite_book() that accepts one parameter, title. The function should print a message, such as One of my favorite books is Alice in Wonderland. Call the function, making sure to include a book title as an argument in the function call.\"\"\"\n",
    "\n",
    "# Answer\n",
    "\n",
    "def favorite_book(book_title):\n",
    "    print(\"One of my favorite book is\",book_title)\n",
    "\n",
    "title = input(\"Please Enter the book title : \")\n",
    "favorite_book(title)"
   ]
  },
  {
   "cell_type": "code",
   "execution_count": 16,
   "metadata": {},
   "outputs": [
    {
     "name": "stdout",
     "output_type": "stream",
     "text": [
      "Guess the number between 1 to 30 : 6\n",
      "Your guess is too low\n",
      "Guess the number between 1 to 30 : 5\n",
      "Your guess is too low\n",
      "Guess the number between 1 to 30 : 9\n",
      "Your guess is too low\n",
      "You Loose\n",
      "Correct Number is  29\n"
     ]
    }
   ],
   "source": [
    "\"\"\"Q23. Guess the number game\n",
    "Write a program which randomly generate a number between 1 to 30 and ask the user in input field to guess the correct number. Give three chances to user guess the number and also give hint to user if hidden number is greater or smaller than the number he given to input field.\"\"\"\n",
    "\n",
    "# Answer\n",
    "\n",
    "import random\n",
    "\n",
    "random_number = random.randrange(1,30)\n",
    "\n",
    "flag = False\n",
    "\n",
    "for i in range(1,4):\n",
    "    guess = int(input(\"Guess the number between 1 to 30 : \"))\n",
    "    if guess == random_number:\n",
    "        flag = True \n",
    "        break\n",
    "    elif guess < random_number:\n",
    "        print(\"Your guess is too low\")\n",
    "    else:\n",
    "        print(\"Your guess is too high\")\n",
    "        \n",
    "if flag:\n",
    "    print(\"Congratulation you Win!!\")\n",
    "else:\n",
    "    print(\"You Loose\")\n",
    "    print(\"Correct Number is \", random_number)"
   ]
  },
  {
   "cell_type": "code",
   "execution_count": 18,
   "metadata": {},
   "outputs": [
    {
     "name": "stdout",
     "output_type": "stream",
     "text": [
      "Take a Guess 25\n",
      "Your guess is too low.\n",
      "Take a Guess 28\n",
      "Your guess is too high.\n",
      "Take a Guess 29\n",
      "Your guess is too high.\n",
      "Nope. The Correct Number is 26\n"
     ]
    }
   ],
   "source": [
    "# Second Method\n",
    "\n",
    "\"\"\"Q23. Guess the number game\n",
    "Write a program which randomly generate a number between 1 to 30 and ask the user in input field to guess the correct number. Give three chances to user guess the number and also give hint to user if hidden number is greater or smaller than the number he given to input field.\"\"\"\n",
    "\n",
    "# Answer\n",
    "\n",
    "import random\n",
    "guessesTaken = 0\n",
    "number = random.randint(1, 30)\n",
    "while guessesTaken < 3:\n",
    "           guess = int(input('Take a Guess '))\n",
    "           guessesTaken = guessesTaken + 1\n",
    "           if guess < number:\n",
    "                 print('Your guess is too low.') # There are eight spaces in front of print.\n",
    "           if guess > number:\n",
    "                 print('Your guess is too high.')\n",
    "           if guess == number:\n",
    "                 print('Your guess is too high.')\n",
    "                 break\n",
    " \n",
    "if guess != number:\n",
    "    number = str(number)\n",
    "    print('Nope. The Correct Number is ' + number)"
   ]
  },
  {
   "cell_type": "code",
   "execution_count": 28,
   "metadata": {},
   "outputs": [
    {
     "name": "stdout",
     "output_type": "stream",
     "text": [
      "Enter a number to calculate the factorial :4\n",
      "24\n"
     ]
    }
   ],
   "source": [
    "# Q24. Write a Python function to calculate the factorial of a number (a non-negative integer). The function accepts the number as an argument\n",
    "\n",
    "#Answer\n",
    "\n",
    "def factorial(number):\n",
    "    if number ==0:\n",
    "        return 1\n",
    "    else:\n",
    "        return number *factorial(number-1)\n",
    "    \n",
    "num = int(input(\"Enter a number to calculate the factorial :\"))\n",
    "print(factorial(num))"
   ]
  },
  {
   "cell_type": "code",
   "execution_count": 29,
   "metadata": {},
   "outputs": [
    {
     "name": "stdout",
     "output_type": "stream",
     "text": [
      "Enter factorial number : 5\n",
      "Factorial result:  120\n"
     ]
    }
   ],
   "source": [
    "# Second Method\n",
    "\n",
    "# Q24. Write a Python function to calculate the factorial of a number (a non-negative integer). The function accepts the number as an argument\n",
    "\n",
    "#Answer\n",
    "\n",
    "def factorial_cal(fact):\n",
    "    result=1\n",
    "    while fact !=0:\n",
    "        result *=fact\n",
    "        fact = fact-1\n",
    "    \n",
    "    print(\"Factorial result: \",result)\n",
    "\n",
    "facto = int(input(\"Enter factorial number : \"))\n",
    "factorial_cal(facto)"
   ]
  },
  {
   "cell_type": "code",
   "execution_count": 23,
   "metadata": {},
   "outputs": [
    {
     "name": "stdout",
     "output_type": "stream",
     "text": [
      "Enter any string :ManZar\n",
      "Your Entered string : ManZar\n",
      "Uppercase letter : 2\n",
      "Lowercase letter : 4\n"
     ]
    }
   ],
   "source": [
    "# Q25. Write a Python function that accepts a string and calculate the number of upper case letters and lower case letters.\n",
    "\n",
    "#Answer\n",
    "\n",
    "def cal_str(string):\n",
    "    up_count = 0\n",
    "    low_count = 0\n",
    "    \n",
    "    for a in string:\n",
    "        if a.isupper():\n",
    "            up_count +=1\n",
    "        elif a.islower():\n",
    "            low_count +=1\n",
    "        else:\n",
    "            pass\n",
    "    print(\"Your Entered string :\",string)\n",
    "    print(\"Uppercase letter :\", up_count)\n",
    "    print(\"Lowercase letter :\", low_count)\n",
    "        \n",
    "input_string = input(\"Enter any string :\")\n",
    "cal_str(input_string)"
   ]
  },
  {
   "cell_type": "code",
   "execution_count": 24,
   "metadata": {},
   "outputs": [
    {
     "name": "stdout",
     "output_type": "stream",
     "text": [
      "[8, 10, 12, 2, 4, 8]\n"
     ]
    }
   ],
   "source": [
    "# Q26. Write a Python function to print the even numbers from a given list.\n",
    "\n",
    "# Answer\n",
    "\n",
    "def even_num(num):\n",
    "    even =[]\n",
    "    for n in num:\n",
    "        if n % 2 ==0:\n",
    "            even.append(n)\n",
    "    return even\n",
    "\n",
    "list1=[1,5,8,9,10,12,2,4,8,9]\n",
    "print(even_num(list1))"
   ]
  },
  {
   "cell_type": "code",
   "execution_count": 25,
   "metadata": {},
   "outputs": [
    {
     "name": "stdout",
     "output_type": "stream",
     "text": [
      "2\n",
      "4\n",
      "8\n",
      "6\n",
      "8\n"
     ]
    }
   ],
   "source": [
    "# Second Method\n",
    "\n",
    "# Q26. Write a Python function to print the even numbers from a given list.\n",
    "\n",
    "# Answer\n",
    "\n",
    "listo = [1,2,4,5,7,8,9,6,8]\n",
    "\n",
    "def even_cal(cal):\n",
    "    a = len(cal)\n",
    "    b=0\n",
    "    while b!=a:\n",
    "        if cal[b] % 2 == 0 :\n",
    "            print(cal[b])\n",
    "        b = b + 1\n",
    "    \n",
    "    \n",
    "even_cal(listo)"
   ]
  },
  {
   "cell_type": "code",
   "execution_count": 26,
   "metadata": {},
   "outputs": [
    {
     "name": "stdout",
     "output_type": "stream",
     "text": [
      "Enter any sentence to check palindrome :madam\n",
      "you Entered Palindrome : madam\n"
     ]
    }
   ],
   "source": [
    "# Q27. Write a Python function that checks whether a passed string is palindrome or not. Note: A palindrome is a word, phrase, or sequence that reads the same backward as forward, e.g., madam \n",
    "\n",
    "getinput =input(\"Enter any sentence to check palindrome :\")\n",
    "\n",
    "def check(get):\n",
    "    palindrome = (get[::-1])\n",
    "    if get == palindrome:\n",
    "        print(\"you Entered Palindrome :\",palindrome)\n",
    "    else:\n",
    "        print(\"Your Input is not palindrome\")\n",
    "check(getinput)"
   ]
  },
  {
   "cell_type": "code",
   "execution_count": 27,
   "metadata": {},
   "outputs": [
    {
     "name": "stdout",
     "output_type": "stream",
     "text": [
      "Enter a number: 1\n",
      "1 is not a prime number\n"
     ]
    }
   ],
   "source": [
    "# Q28. Write a Python function that takes a number as a parameter and check the number is prime or not.\n",
    "\n",
    "# Answer\n",
    "\n",
    "num = int(input(\"Enter a number: \"))\n",
    "\n",
    "if num > 1:\n",
    "    for i in range(2,num):\n",
    "        if(n % i) == 0:\n",
    "            print(num,\"is not a prime number\")\n",
    "            print(i,\"times\",num//i,\"is\",num)\n",
    "            break\n",
    "    \n",
    "    else:\n",
    "        print(num,\"is a prime number\")\n",
    "        \n",
    "else:\n",
    "    print(num,\"is not a prime number\")"
   ]
  },
  {
   "cell_type": "code",
   "execution_count": 30,
   "metadata": {},
   "outputs": [
    {
     "name": "stdout",
     "output_type": "stream",
     "text": [
      "You selected mango\n",
      "You selected banana\n",
      "You selected Apple\n"
     ]
    }
   ],
   "source": [
    "\"\"\"Q29. Suppose a customer is shopping in a market and you need to print all the items which user bought from market.\n",
    "       Write a function which accepts the multiple arguments of user shopping list and print all the items which user bought from market.\n",
    "       (Hint: Arbitrary Argument concept can make this task ease) \"\"\"\n",
    "\n",
    "# Answer\n",
    "\n",
    "def shopping_list(*items):\n",
    "    for item in items:\n",
    "        print(\"You selected\",item)\n",
    "\n",
    "shopping_list('mango','banana','Apple')"
   ]
  },
  {
   "cell_type": "code",
   "execution_count": 31,
   "metadata": {},
   "outputs": [
    {
     "name": "stdout",
     "output_type": "stream",
     "text": [
      "Vigo \n",
      " 1997 \n",
      " Black \n",
      " manual as well as \n",
      " Auto\n",
      "\t\t================\n",
      "vigo135 gig \n",
      " 2000 \n",
      " Black \n",
      " manual as well as \n",
      " Auto\n",
      "\t\t================\n",
      "Vigo \n",
      " 1997 \n",
      " Black \n",
      " No auto facility \n",
      " But Manual\n",
      "\t\t================\n",
      "Vigo \n",
      " 1997 \n",
      " Red \n",
      " Auto \n",
      " manual as well as\n",
      "\t\t================\n",
      "Honda city \n",
      " 2015 \n",
      " Dark Blue \n",
      " Auto facilities \n",
      " As well as Manual\n"
     ]
    }
   ],
   "source": [
    "# Q30. Write a code in python in which create a class named it Car which have 5 attributes such like (model, color and name etc.) and 3 methods. And create 5 object instance from that class.\n",
    "\n",
    "# Answer\n",
    "\n",
    "class car():\n",
    "    #instantiation method\n",
    "    def __init__(self,model,color,name,auto,manual):\n",
    "        #Attributes and attributes names\n",
    "        self.model = model\n",
    "        self.color = color\n",
    "        self.name = name\n",
    "        self.auto = auto\n",
    "        self.manual = manual\n",
    "        # self is a prefix \n",
    "        \n",
    "    def modelname(self,newmodel,newname):\n",
    "        self.model = newmodel\n",
    "        self.name = newname\n",
    "        \n",
    "    def automanual(self,newauto,newmanual):\n",
    "        self.auto = newauto\n",
    "        self.manual = newmanual\n",
    "        \n",
    "    def carcolor(self,newcolor):\n",
    "        self.color = newcolor\n",
    "        \n",
    "        \n",
    "#object instance\n",
    "car1 = car(1997,'Black','Vigo','Auto','manual as well as')\n",
    "print(car1.name,'\\n',car1.model,'\\n',car1.color,'\\n',car1.manual,'\\n',car1.auto)\n",
    "\n",
    "car2 = car(1997,'Black','Vigo','Auto','manual as well as')\n",
    "car2.modelname(2000,'vigo135 gig')\n",
    "print(\"\\t\\t================\")\n",
    "print(car2.name,'\\n',car2.model,'\\n',car2.color,'\\n',car2.manual,'\\n',car2.auto)\n",
    "\n",
    "\n",
    "car3 = car(1997,'Black','Vigo','Auto','manual as well as')\n",
    "car3.automanual('No auto facility','But Manual')\n",
    "print(\"\\t\\t================\")\n",
    "print(car3.name,'\\n',car3.model,'\\n',car3.color,'\\n',car3.auto,'\\n',car3.manual)\n",
    "\n",
    "car4 = car(1997,'Black','Vigo','Auto','manual as well as')\n",
    "car4.carcolor('Red')\n",
    "print(\"\\t\\t================\")\n",
    "print(car4.name,'\\n',car4.model,'\\n',car4.color,'\\n',car4.auto,'\\n',car4.manual)\n",
    "\n",
    "car5 = car(1997,'Black','Vigo','Auto','manual as well as')\n",
    "car5.modelname(2015,'Honda city')\n",
    "car5.automanual('Auto facilities','As well as Manual')\n",
    "car5.carcolor('Dark Blue')\n",
    "print(\"\\t\\t================\")\n",
    "print(car5.name,'\\n',car5.model,'\\n',car5.color,'\\n',car5.auto,'\\n',car5.manual)"
   ]
  },
  {
   "cell_type": "code",
   "execution_count": null,
   "metadata": {},
   "outputs": [],
   "source": []
  }
 ],
 "metadata": {
  "kernelspec": {
   "display_name": "Python 3",
   "language": "python",
   "name": "python3"
  },
  "language_info": {
   "codemirror_mode": {
    "name": "ipython",
    "version": 3
   },
   "file_extension": ".py",
   "mimetype": "text/x-python",
   "name": "python",
   "nbconvert_exporter": "python",
   "pygments_lexer": "ipython3",
   "version": "3.7.4"
  }
 },
 "nbformat": 4,
 "nbformat_minor": 2
}

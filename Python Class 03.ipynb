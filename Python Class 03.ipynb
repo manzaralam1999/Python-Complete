{
 "cells": [
  {
   "cell_type": "markdown",
   "metadata": {},
   "source": [
    "#  Python Class 03"
   ]
  },
  {
   "cell_type": "code",
   "execution_count": 1,
   "metadata": {},
   "outputs": [
    {
     "name": "stdout",
     "output_type": "stream",
     "text": [
      "['Manzar', 'Alam', True]\n"
     ]
    }
   ],
   "source": [
    "# touple\n",
    "# touple is not changeable and non-editable while list is changeable or editable\n",
    "\n",
    "tp = [\"Manzar\" , \"Alam\" , True]\n",
    "print(tp)"
   ]
  },
  {
   "cell_type": "code",
   "execution_count": 2,
   "metadata": {},
   "outputs": [
    {
     "name": "stdout",
     "output_type": "stream",
     "text": [
      "Enter first number 5\n",
      "Enter second number 4\n",
      "Enter Any operator **\n",
      "625 answer\n"
     ]
    }
   ],
   "source": [
    "# calculator\n",
    "\n",
    "a = int(input(\"Enter first number \"))\n",
    "b = int(input(\"Enter second number \"))\n",
    "op = (input(\"Enter Any operator \"))\n",
    "\n",
    "if op == '+':\n",
    "    c = a + b\n",
    "    print(c,'answer')\n",
    "elif op == '-':\n",
    "    c = a - b\n",
    "    print(c,'answer')\n",
    "elif op == '*':\n",
    "    c = a * b\n",
    "    print(c,'answer')\n",
    "elif op == '/':\n",
    "    c = a / b\n",
    "    print(c,'answer')\n",
    "elif op == '**':\n",
    "    c = a ** b\n",
    "    print(c,'answer')\n",
    "else:\n",
    "    print(\"You put wrong operator\")"
   ]
  },
  {
   "cell_type": "code",
   "execution_count": 3,
   "metadata": {},
   "outputs": [
    {
     "name": "stdout",
     "output_type": "stream",
     "text": [
      "Hyderabad\n",
      "Lahore\n",
      "Karachi\n",
      "Quetta\n",
      "Multan\n"
     ]
    }
   ],
   "source": [
    "# for loop\n",
    "\n",
    "cleanest_city = [\"Hyderabad\" , \"Lahore\" , \"Karachi\" , \"Quetta\" , \"Multan\"]\n",
    "for a_clean_city in cleanest_city:\n",
    "    print(a_clean_city)"
   ]
  },
  {
   "cell_type": "code",
   "execution_count": 4,
   "metadata": {},
   "outputs": [
    {
     "name": "stdout",
     "output_type": "stream",
     "text": [
      "Enter any city Lahore\n",
      "This is not cleanest city\n",
      "This is cleanest city\n",
      "This is not cleanest city\n",
      "This is not cleanest city\n",
      "This is not cleanest city\n"
     ]
    }
   ],
   "source": [
    "# for loop and if else condition\n",
    "\n",
    "cleanest_city = [\"Hyderabad\" , \"Lahore\" , \"Karachi\" , \"Quetta\" , \"Multan\"]\n",
    "\n",
    "val = input(\"Enter any city \")\n",
    "\n",
    "for manzar in cleanest_city:\n",
    "    if val == manzar:\n",
    "        print(\"This is cleanest city\")\n",
    "    else:\n",
    "        print(\"This is not cleanest city\")\n",
    "        \n",
    "# how to stop loop or print single time only (self work)"
   ]
  },
  {
   "cell_type": "code",
   "execution_count": 5,
   "metadata": {},
   "outputs": [
    {
     "name": "stdout",
     "output_type": "stream",
     "text": [
      "['Manzar Alam', 'Manzar Malik', 'Manzar Hasnain', 'Manzar Ansari', 'Zain Alam', 'Zain Malik', 'Zain Hasnain', 'Zain Ansari', 'Ammar Alam', 'Ammar Malik', 'Ammar Hasnain', 'Ammar Ansari', 'Osama Alam', 'Osama Malik', 'Osama Hasnain', 'Osama Ansari', 'Usban Alam', 'Usban Malik', 'Usban Hasnain', 'Usban Ansari']\n"
     ]
    }
   ],
   "source": [
    "# for loop nested\n",
    "\n",
    "first_names = [\"Manzar\" , \"Zain\" , \"Ammar\" , \"Osama\" , \"Usban\"]\n",
    "last_names = [\"Alam\" , \"Malik\" , \"Hasnain\" , \"Ansari\"]\n",
    "full_name = []\n",
    "for a_first_name in first_names: # outer for loop\n",
    "    for a_last_name in last_names: # inner for loop\n",
    "        full_name.append(a_first_name + \" \" + a_last_name)\n",
    "print(full_name)"
   ]
  },
  {
   "cell_type": "code",
   "execution_count": 6,
   "metadata": {},
   "outputs": [
    {
     "name": "stdout",
     "output_type": "stream",
     "text": [
      "10.0\n"
     ]
    }
   ],
   "source": [
    "# How to get Answer in decimal number\n",
    "\n",
    "a = 10\n",
    "b = float(a)\n",
    "print(b)"
   ]
  },
  {
   "cell_type": "code",
   "execution_count": 7,
   "metadata": {},
   "outputs": [
    {
     "name": "stdout",
     "output_type": "stream",
     "text": [
      "manzar\n"
     ]
    }
   ],
   "source": [
    "# Changing case (case means capital and small alphabets)\n",
    "# Getting all alphabet in lower case\n",
    "\n",
    "a = \"mANzar\"\n",
    "print(a.lower())"
   ]
  },
  {
   "cell_type": "code",
   "execution_count": 8,
   "metadata": {},
   "outputs": [
    {
     "name": "stdout",
     "output_type": "stream",
     "text": [
      "MANZAR\n"
     ]
    }
   ],
   "source": [
    "# Getting all alphabet in upper case\n",
    "\n",
    "a = \"ManzAR\"\n",
    "print(a.upper())"
   ]
  },
  {
   "cell_type": "code",
   "execution_count": 9,
   "metadata": {},
   "outputs": [
    {
     "name": "stdout",
     "output_type": "stream",
     "text": [
      "Manzar\n"
     ]
    }
   ],
   "source": [
    "# Getting only first alphabet in capital and rest of the alphabets in small\n",
    "\n",
    "a = \"mANZAr\"\n",
    "print(a.title())"
   ]
  },
  {
   "cell_type": "code",
   "execution_count": 10,
   "metadata": {},
   "outputs": [
    {
     "name": "stdout",
     "output_type": "stream",
     "text": [
      "{'first name': 'Manzar', 'last name': 'Alam', 'address': '87 Orangi Town'}\n"
     ]
    }
   ],
   "source": [
    "# Dictionary is the combination of keys(left side) and values(right hand)\n",
    "\n",
    "customer = {\n",
    "    \"first name\" : \"Manzar\",\n",
    "    \"last name\" : \"Alam\",\n",
    "    \"address\" : \"87 Orangi Town\"\n",
    "}\n",
    "print(customer)"
   ]
  },
  {
   "cell_type": "code",
   "execution_count": 11,
   "metadata": {},
   "outputs": [
    {
     "name": "stdout",
     "output_type": "stream",
     "text": [
      "Manzar\n"
     ]
    }
   ],
   "source": [
    "# Dictionary is the combination of keys(left side) and values(right hand)\n",
    "\n",
    "customer = {\n",
    "    \"first name\" : \"Manzar\",\n",
    "    \"last name\" : \"Alam\",\n",
    "    \"address\" : \"87 Orangi Town\"\n",
    "}\n",
    "print(customer[\"first name\"])"
   ]
  },
  {
   "cell_type": "code",
   "execution_count": 12,
   "metadata": {},
   "outputs": [
    {
     "name": "stdout",
     "output_type": "stream",
     "text": [
      "Karachi\n"
     ]
    }
   ],
   "source": [
    "# desired index number\n",
    "\n",
    "rankings = {3: \"Lahore\", 5: \"Peshawar\", 8: \"Karachi\", 9: \"Hyderabad\"}\n",
    "print(rankings[8])"
   ]
  },
  {
   "cell_type": "code",
   "execution_count": 13,
   "metadata": {},
   "outputs": [
    {
     "name": "stdout",
     "output_type": "stream",
     "text": [
      "{'first name': 'Manzar', 'last name': 'Alam', 'address': 'Data Nagar'}\n"
     ]
    }
   ],
   "source": [
    "# Overwrite (change) values after asgining in the dictionary\n",
    "\n",
    "customer = {\n",
    "    \"first name\" : \"Manzar\",\n",
    "    \"last name\" : \"Alam\",\n",
    "    \"address\" : \"87 Orangi Town\"\n",
    "}\n",
    "customer[\"address\"] = \"Data Nagar\"\n",
    "print(customer)"
   ]
  },
  {
   "cell_type": "code",
   "execution_count": 14,
   "metadata": {},
   "outputs": [
    {
     "name": "stdout",
     "output_type": "stream",
     "text": [
      "{'first name': 'Manzar', 'last name': 'Alam', 'address': '87 Orangi Town', 'language': 'Urdu'}\n"
     ]
    }
   ],
   "source": [
    "# Adding (Editing) keys and values in the dictionary\n",
    "\n",
    "customer = {\n",
    "    \"first name\" : \"Manzar\",\n",
    "    \"last name\" : \"Alam\",\n",
    "    \"address\" : \"87 Orangi Town\"\n",
    "}\n",
    "customer[\"language\"] = \"Urdu\"\n",
    "print(customer)"
   ]
  },
  {
   "cell_type": "code",
   "execution_count": 15,
   "metadata": {},
   "outputs": [
    {
     "name": "stdout",
     "output_type": "stream",
     "text": [
      "{'first name': 'Manzar', 'last name': 'Alam', 'language': 'Urdu'}\n"
     ]
    }
   ],
   "source": [
    "# Deleting keys and values from the dictionary\n",
    "\n",
    "del customer[\"address\"]\n",
    "print(customer)"
   ]
  },
  {
   "cell_type": "code",
   "execution_count": 16,
   "metadata": {},
   "outputs": [
    {
     "name": "stdout",
     "output_type": "stream",
     "text": [
      "first name\n",
      "last name\n",
      "language\n"
     ]
    }
   ],
   "source": [
    "# loop in dictionary (only keys name)\n",
    "\n",
    "for each_value in customer.keys():\n",
    "    print(each_value)"
   ]
  },
  {
   "cell_type": "code",
   "execution_count": 17,
   "metadata": {},
   "outputs": [
    {
     "name": "stdout",
     "output_type": "stream",
     "text": [
      "Manzar\n",
      "Alam\n",
      "Urdu\n"
     ]
    }
   ],
   "source": [
    "# loop in dictionary (only values name)\n",
    "\n",
    "for each_value in customer.values():\n",
    "    print(each_value)"
   ]
  },
  {
   "cell_type": "code",
   "execution_count": 18,
   "metadata": {},
   "outputs": [
    {
     "name": "stdout",
     "output_type": "stream",
     "text": [
      "first name keys\n",
      "last name keys\n",
      "language keys\n",
      "Manzar values\n",
      "Alam values\n",
      "Urdu values\n"
     ]
    }
   ],
   "source": [
    "# loop in dictionary (both names keys and values)\n",
    "\n",
    "for each_value in customer.keys():\n",
    "    print(each_value,'keys')\n",
    "for each_value in customer.values():\n",
    "    print(each_value,'values')"
   ]
  },
  {
   "cell_type": "code",
   "execution_count": 19,
   "metadata": {},
   "outputs": [
    {
     "name": "stdout",
     "output_type": "stream",
     "text": [
      "The customer's first name is Manzar\n",
      "The customer's last name is Alam\n",
      "The customer's language is Urdu\n"
     ]
    }
   ],
   "source": [
    "# looping through key values pairs\n",
    "\n",
    "for each_key,each_value in customer.items():\n",
    "    print(\"The customer's \" + each_key + \" is \" + each_value)"
   ]
  },
  {
   "cell_type": "code",
   "execution_count": null,
   "metadata": {},
   "outputs": [],
   "source": []
  }
 ],
 "metadata": {
  "kernelspec": {
   "display_name": "Python 3",
   "language": "python",
   "name": "python3"
  },
  "language_info": {
   "codemirror_mode": {
    "name": "ipython",
    "version": 3
   },
   "file_extension": ".py",
   "mimetype": "text/x-python",
   "name": "python",
   "nbconvert_exporter": "python",
   "pygments_lexer": "ipython3",
   "version": "3.7.4"
  }
 },
 "nbformat": 4,
 "nbformat_minor": 2
}

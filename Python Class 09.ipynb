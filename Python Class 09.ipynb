{
 "cells": [
  {
   "cell_type": "code",
   "execution_count": 1,
   "metadata": {},
   "outputs": [
    {
     "name": "stdout",
     "output_type": "stream",
     "text": [
      "123\n",
      "456\n",
      "789\n",
      "\n",
      "\n",
      "\n"
     ]
    }
   ],
   "source": [
    "# keyword 'with' is used to end the file automatically\n",
    "# Accessing text file\n",
    "\n",
    "with open(\"text1\") as practicefile:\n",
    "    contents = practicefile.read()\n",
    "    print(contents)"
   ]
  },
  {
   "cell_type": "code",
   "execution_count": 2,
   "metadata": {},
   "outputs": [
    {
     "name": "stdout",
     "output_type": "stream",
     "text": [
      "123\n",
      "456\n",
      "789\n"
     ]
    }
   ],
   "source": [
    "# removing white or extra spaces\n",
    "\n",
    "with open(\"text1\") as practicefile:\n",
    "    contents = practicefile.read()\n",
    "    print(contents.rstrip())"
   ]
  },
  {
   "cell_type": "code",
   "execution_count": 3,
   "metadata": {},
   "outputs": [
    {
     "name": "stdout",
     "output_type": "stream",
     "text": [
      "zain\n",
      "manzar\n",
      "osama\n",
      "ammar\n"
     ]
    }
   ],
   "source": [
    "# Accesing folder with text files\n",
    "\n",
    "with open(\"Untitled Folder/text2\") as practicefile:\n",
    "    contents = practicefile.read()\n",
    "    print(contents.rstrip())"
   ]
  },
  {
   "cell_type": "code",
   "execution_count": 4,
   "metadata": {},
   "outputs": [
    {
     "name": "stdout",
     "output_type": "stream",
     "text": [
      "zain\n",
      "manzar\n",
      "osama\n",
      "ammar\n"
     ]
    }
   ],
   "source": [
    "# Accessing folder and file by uisng file path\n",
    "\n",
    "filePath = \"Untitled Folder/text2\"\n",
    "with open(filePath) as practicefile:\n",
    "    contents = practicefile.read()\n",
    "    print(contents.rstrip())"
   ]
  },
  {
   "cell_type": "code",
   "execution_count": 5,
   "metadata": {},
   "outputs": [
    {
     "name": "stdout",
     "output_type": "stream",
     "text": [
      "123\n",
      "\n",
      "456\n",
      "\n",
      "789\n",
      "\n",
      "\n",
      "\n",
      "\n",
      "\n"
     ]
    }
   ],
   "source": [
    "# getting file outside the scope of 'with' with help of for loop\n",
    "# Empty spaces after every line automatically\n",
    "\n",
    "filePath = \"text1\"\n",
    "with open(filePath) as practicefile:\n",
    "    contents = practicefile.readlines()\n",
    "\n",
    "for line in contents:\n",
    "    print(line)"
   ]
  },
  {
   "cell_type": "code",
   "execution_count": 6,
   "metadata": {},
   "outputs": [
    {
     "name": "stdout",
     "output_type": "stream",
     "text": [
      "123\n",
      "456\n",
      "789\n",
      "\n",
      "\n"
     ]
    }
   ],
   "source": [
    "# Now rstrip only remove that spaces which are not in textfile\n",
    "\n",
    "filePath = \"text1\"\n",
    "with open(filePath) as practicefile:\n",
    "    contents = practicefile.readlines()\n",
    "\n",
    "for line in contents:\n",
    "    print(line.rstrip())"
   ]
  },
  {
   "cell_type": "code",
   "execution_count": 7,
   "metadata": {},
   "outputs": [
    {
     "name": "stdout",
     "output_type": "stream",
     "text": [
      "123456789\n"
     ]
    }
   ],
   "source": [
    "# Print textfile Data in single line\n",
    "\n",
    "filePath = \"text1\"\n",
    "with open(filePath) as practicefile:\n",
    "    contents = practicefile.readlines()\n",
    "    \n",
    "oneline = \"\"\n",
    "\n",
    "for line in contents:\n",
    "    oneline += line.rstrip()\n",
    "    \n",
    "print(oneline)"
   ]
  },
  {
   "cell_type": "code",
   "execution_count": 8,
   "metadata": {},
   "outputs": [
    {
     "name": "stdout",
     "output_type": "stream",
     "text": [
      "123456 still continue\n"
     ]
    }
   ],
   "source": [
    "# slicing\n",
    "\n",
    "filePath = \"text1\"\n",
    "with open(filePath) as practicefile:\n",
    "    contents = practicefile.readlines()\n",
    "    \n",
    "oneline = \"\"\n",
    "\n",
    "for line in contents:\n",
    "    oneline += line.rstrip()\n",
    "    \n",
    "print(oneline[:6] + \" \" + \"still continue\")"
   ]
  },
  {
   "cell_type": "code",
   "execution_count": 9,
   "metadata": {},
   "outputs": [
    {
     "name": "stdout",
     "output_type": "stream",
     "text": [
      "123456 still continue\n",
      "9\n"
     ]
    }
   ],
   "source": [
    "# In this example slicing will not change the actual length\n",
    "\n",
    "filePath = \"text1\"\n",
    "with open(filePath) as practicefile:\n",
    "    contents = practicefile.readlines()\n",
    "    \n",
    "oneline = \"\"\n",
    "\n",
    "for line in contents:\n",
    "    oneline += line.rstrip()\n",
    "    \n",
    "print(oneline[:6] + \" \" + \"still continue\")\n",
    "print(len(oneline))"
   ]
  },
  {
   "cell_type": "code",
   "execution_count": 10,
   "metadata": {},
   "outputs": [],
   "source": [
    "# if we want to perform write operation then we have to use 'w' \n",
    "\n",
    "filePath = \"text1\"\n",
    "\n",
    "with open(filePath , \"w\") as practiceFile:\n",
    "    practiceFile.write(\"000\")\n",
    "    \n",
    "# it will change only textfile\n",
    "# it will remove all data in textfile and it will show 000 (given data here)"
   ]
  },
  {
   "cell_type": "code",
   "execution_count": 11,
   "metadata": {},
   "outputs": [],
   "source": [
    "# concatinate two commands in textfile in one line\n",
    "\n",
    "filePath = \"text1\"\n",
    "\n",
    "with open(filePath , \"w\") as practiceFile:\n",
    "    practiceFile.write(\"000\")\n",
    "    practiceFile.write(\"111\")"
   ]
  },
  {
   "cell_type": "code",
   "execution_count": 12,
   "metadata": {},
   "outputs": [],
   "source": [
    "# concatinate two commands in textfile in next line (using \\n)\n",
    "\n",
    "filePath = \"text1\"\n",
    "\n",
    "with open(filePath , \"w\") as practiceFile:\n",
    "    practiceFile.write(\"000 \\n\")\n",
    "    practiceFile.write(\"111\")"
   ]
  },
  {
   "cell_type": "code",
   "execution_count": 16,
   "metadata": {},
   "outputs": [],
   "source": [
    "# don't delte previous content and new content will add them (by using a) in textfile\n",
    "\n",
    "filePath = \"text1\"\n",
    "\n",
    "with open(filePath , \"a\") as practiceFile: # operation change w --> a\n",
    "    practiceFile.write(\"222\") # method same e.g, write"
   ]
  },
  {
   "cell_type": "code",
   "execution_count": 17,
   "metadata": {},
   "outputs": [
    {
     "name": "stdout",
     "output_type": "stream",
     "text": [
      "1.6666666666666667\n"
     ]
    }
   ],
   "source": [
    "# else will run because second_num is non-zero\n",
    "\n",
    "first_num = 5\n",
    "second_num = 3\n",
    "\n",
    "try:\n",
    "    answer = first_num / second_num\n",
    "    \n",
    "except ZeroDivisionError:\n",
    "    print(\"This operation can not be performed\")\n",
    "    \n",
    "else:\n",
    "    print(answer)"
   ]
  },
  {
   "cell_type": "code",
   "execution_count": 18,
   "metadata": {},
   "outputs": [
    {
     "name": "stdout",
     "output_type": "stream",
     "text": [
      "This operation can not be performed\n"
     ]
    }
   ],
   "source": [
    "# Controlling divsion by '0' Error\n",
    "\n",
    "first_num = 5\n",
    "second_num = 0\n",
    "\n",
    "try:\n",
    "    answer = first_num / second_num\n",
    "    \n",
    "except ZeroDivisionError:\n",
    "    print(\"This operation can not be performed\")\n",
    "    \n",
    "else:\n",
    "    print(answer)"
   ]
  },
  {
   "cell_type": "code",
   "execution_count": 19,
   "metadata": {},
   "outputs": [
    {
     "name": "stdout",
     "output_type": "stream",
     "text": [
      "000 \n",
      "111222\n"
     ]
    }
   ],
   "source": [
    "# else statement will because given File Path is Correct\n",
    "\n",
    "try:\n",
    "    with open(\"text1\") as practiceFile:\n",
    "        contents = practiceFile.read()\n",
    "        \n",
    "except FileNotFoundError:\n",
    "    print(\"Your File Path is not Correct\")\n",
    "    \n",
    "else:\n",
    "    print(contents)"
   ]
  },
  {
   "cell_type": "code",
   "execution_count": 20,
   "metadata": {},
   "outputs": [
    {
     "name": "stdout",
     "output_type": "stream",
     "text": [
      "Your File Path is not Correct\n"
     ]
    }
   ],
   "source": [
    "# Controlling File not found Error\n",
    "\n",
    "try:\n",
    "    with open(\"text3\") as practiceFile:\n",
    "        contents = practiceFile.read()\n",
    "        \n",
    "except FileNotFoundError:\n",
    "    print(\"Your File Path is not Correct\")\n",
    "    \n",
    "else:\n",
    "    print(contents)"
   ]
  },
  {
   "cell_type": "code",
   "execution_count": 22,
   "metadata": {},
   "outputs": [
    {
     "name": "stdout",
     "output_type": "stream",
     "text": [
      "['Programming Language', 'Designed by', 'Appeared', 'Extension']\n",
      "['Python', 'Guido va Russum', '1991', '.py']\n",
      "['Java', 'James Gosling', '1995', '.java']\n",
      "['C++', 'Bjarne Stroustrup', '1983', '.cpp']\n"
     ]
    }
   ],
   "source": [
    "# Getting Data from Excel file\n",
    "\n",
    "import csv\n",
    "\n",
    "with open(\"history.csv\") as practiceFile:\n",
    "    contents = csv.reader(practiceFile)\n",
    "    for line in contents:\n",
    "        print(line)"
   ]
  },
  {
   "cell_type": "code",
   "execution_count": 23,
   "metadata": {},
   "outputs": [
    {
     "name": "stdout",
     "output_type": "stream",
     "text": [
      "3.141592653589793\n"
     ]
    }
   ],
   "source": [
    "# Math module import\n",
    "\n",
    "import math\n",
    "print(math.pi)"
   ]
  },
  {
   "cell_type": "code",
   "execution_count": 25,
   "metadata": {},
   "outputs": [
    {
     "name": "stdout",
     "output_type": "stream",
     "text": [
      "3.141592653589793\n"
     ]
    }
   ],
   "source": [
    "# giving desired name of module\n",
    "\n",
    "import math as manzar\n",
    "print(manzar.pi)"
   ]
  },
  {
   "cell_type": "code",
   "execution_count": 26,
   "metadata": {},
   "outputs": [
    {
     "name": "stdout",
     "output_type": "stream",
     "text": [
      "3.141592653589793\n"
     ]
    }
   ],
   "source": [
    "# without giving module name\n",
    "\n",
    "from math import *\n",
    "print(pi)"
   ]
  },
  {
   "cell_type": "code",
   "execution_count": 27,
   "metadata": {},
   "outputs": [
    {
     "name": "stdout",
     "output_type": "stream",
     "text": [
      "6\n"
     ]
    }
   ],
   "source": [
    "# ceil gives next possible number\n",
    "\n",
    "import math\n",
    "print(math.ceil(5.7))"
   ]
  },
  {
   "cell_type": "code",
   "execution_count": 28,
   "metadata": {},
   "outputs": [
    {
     "name": "stdout",
     "output_type": "stream",
     "text": [
      "5\n"
     ]
    }
   ],
   "source": [
    "# floor gives previous possible number\n",
    "\n",
    "import math\n",
    "print(math.floor(5.7))"
   ]
  },
  {
   "cell_type": "code",
   "execution_count": 1,
   "metadata": {},
   "outputs": [
    {
     "name": "stdout",
     "output_type": "stream",
     "text": [
      "importing Jupyter notebook from Untitled3.ipynb\n"
     ]
    },
    {
     "data": {
      "text/plain": [
       "10"
      ]
     },
     "execution_count": 1,
     "metadata": {},
     "output_type": "execute_result"
    }
   ],
   "source": [
    "# we use this command \"pip install import_ipynb\" on terminal of jupyter\n",
    "# Just call any function from any file\n",
    "\n",
    "import import_ipynb\n",
    "\n",
    "import Untitled3\n",
    "\n",
    "Untitled3.add(1,9)"
   ]
  },
  {
   "cell_type": "code",
   "execution_count": 38,
   "metadata": {},
   "outputs": [
    {
     "name": "stdout",
     "output_type": "stream",
     "text": [
      "[[ 0.32760392  0.34322557  1.73197523]\n",
      " [-0.01154361 -0.59822229 -1.18380085]] \n",
      "\n",
      "[[ 0.65520784  0.68645114  3.46395046]\n",
      " [-0.02308721 -1.19644459 -2.36760169]] \n",
      "\n",
      "[[  3.27603921   3.4322557   17.31975228]\n",
      " [ -0.11543607  -5.98222293 -11.83800845]] \n",
      "\n",
      "(2, 3) \n",
      "\n",
      "float64 \n",
      "\n",
      "2 \n",
      "\n"
     ]
    }
   ],
   "source": [
    "# numpy\n",
    "\n",
    "import numpy as np\n",
    "\n",
    "data = np.random.randn(2,3)\n",
    "print(data, '\\n')\n",
    "print(data + data, '\\n')\n",
    "print(data * 10 , '\\n')\n",
    "print(data.shape, '\\n')\n",
    "print(data.dtype, '\\n')\n",
    "print(data.ndim, '\\n')"
   ]
  },
  {
   "cell_type": "code",
   "execution_count": 39,
   "metadata": {},
   "outputs": [
    {
     "name": "stdout",
     "output_type": "stream",
     "text": [
      "[0. 0. 0. 0. 0. 0. 0. 0. 0. 0.] \n",
      "\n",
      "[[0. 0. 0. 0. 0. 0.]\n",
      " [0. 0. 0. 0. 0. 0.]\n",
      " [0. 0. 0. 0. 0. 0.]] \n",
      "\n",
      "[[[0. 0. 0. 0. 0. 0.]\n",
      "  [0. 0. 0. 0. 0. 0.]\n",
      "  [0. 0. 0. 0. 0. 0.]]\n",
      "\n",
      " [[0. 0. 0. 0. 0. 0.]\n",
      "  [0. 0. 0. 0. 0. 0.]\n",
      "  [0. 0. 0. 0. 0. 0.]]] \n",
      "\n",
      "[[0. 0. 0. 0. 0. 0.]\n",
      " [0. 0. 0. 0. 0. 0.]\n",
      " [0. 0. 0. 0. 0. 0.]] \n",
      "\n"
     ]
    }
   ],
   "source": [
    "# generating 'zero' array through numpy\n",
    "\n",
    "print(np.zeros(10), '\\n')\n",
    "print(np.zeros((3,6)), '\\n')\n",
    "print(np.zeros((2,3,6)), '\\n')\n",
    "print(np.empty((3,6)), '\\n')"
   ]
  },
  {
   "cell_type": "code",
   "execution_count": 40,
   "metadata": {},
   "outputs": [
    {
     "name": "stdout",
     "output_type": "stream",
     "text": [
      "[1. 2. 3. 4. 5.]\n"
     ]
    }
   ],
   "source": [
    "# converting simple array into numpy array and changing type of array\n",
    "\n",
    "arr = np.array([1, 2, 3, 4, 5])\n",
    "print(arr.astype(np.float64))"
   ]
  },
  {
   "cell_type": "code",
   "execution_count": 41,
   "metadata": {},
   "outputs": [
    {
     "name": "stdout",
     "output_type": "stream",
     "text": [
      "[ 8  4 12 16] \n",
      "\n",
      "[16  4 36 64] \n",
      "\n",
      "[0.5        1.         0.33333333 0.25      ] \n",
      "\n",
      "[16  4 36 64] \n",
      "\n",
      "[2.         1.41421356 2.44948974 2.82842712] \n",
      "\n",
      "[  54.59815003    7.3890561   403.42879349 2980.95798704] \n",
      "\n",
      "5.0 \n",
      "\n",
      "20 \n",
      "\n",
      "[ 4  6 12 20] \n",
      "\n",
      "[2 4 6 8] \n",
      "\n"
     ]
    }
   ],
   "source": [
    "# diiferent operations on numpy array\n",
    "\n",
    "arr = np.array([4, 2, 6, 8] , dtype = \"int64\")\n",
    "print(arr * 2, '\\n')\n",
    "print(arr * arr, '\\n')\n",
    "print(2 / arr, '\\n')\n",
    "print(arr ** 2, '\\n')\n",
    "print(np.sqrt(arr), '\\n')\n",
    "print(np.exp(arr), '\\n')\n",
    "print(np.mean(arr), '\\n')\n",
    "print(np.sum(arr), '\\n')\n",
    "print(np.cumsum(arr), '\\n')\n",
    "print(np.sort(arr), '\\n')"
   ]
  },
  {
   "cell_type": "code",
   "execution_count": 42,
   "metadata": {},
   "outputs": [
    {
     "name": "stdout",
     "output_type": "stream",
     "text": [
      "[ 8  4 12 16] \n",
      "\n",
      "[16  4 36 64] \n",
      "\n",
      "[0.5        1.         0.33333333 0.25      ] \n",
      "\n",
      "[16  4 36 64] \n",
      "\n",
      "[2.         1.41421356 2.44948974 2.82842712] \n",
      "\n",
      "[  54.59815003    7.3890561   403.42879349 2980.95798704] \n",
      "\n",
      "5.0 \n",
      "\n",
      "20 \n",
      "\n",
      "[ 4  6 12 20] \n",
      "\n",
      "[2 4 6 8] \n",
      "\n",
      "[ True  True  True  True]\n"
     ]
    }
   ],
   "source": [
    "# Boolean operations on numpy\n",
    "\n",
    "arr = np.array([4, 2, 6, 8] , dtype = \"int64\")\n",
    "print(arr * 2, '\\n')\n",
    "print(arr * arr, '\\n')\n",
    "print(2 / arr, '\\n')\n",
    "print(arr ** 2, '\\n')\n",
    "print(np.sqrt(arr), '\\n')\n",
    "print(np.exp(arr), '\\n')\n",
    "print(np.mean(arr), '\\n')\n",
    "print(np.sum(arr), '\\n')\n",
    "print(np.cumsum(arr), '\\n')\n",
    "print(np.sort(arr), '\\n')\n",
    "\n",
    "arr2 = np.array([0,1,3,5])\n",
    "\n",
    "print(arr > arr2)"
   ]
  },
  {
   "cell_type": "code",
   "execution_count": 43,
   "metadata": {},
   "outputs": [
    {
     "name": "stdout",
     "output_type": "stream",
     "text": [
      "[0 1 2 3 4 5 6 7 8 9]\n",
      "[5 6 7]\n",
      "[0 0 0 3 4 5 6 7 8 9]\n"
     ]
    }
   ],
   "source": [
    "# arange function and slicing in numpy\n",
    "\n",
    "arr = np.arange(10)\n",
    "print(arr)\n",
    "\n",
    "arr2 = arr[5:8]\n",
    "print(arr2)\n",
    "\n",
    "arr[:3] = 0 # changing all slices value into 0\n",
    "print(arr)"
   ]
  },
  {
   "cell_type": "code",
   "execution_count": 44,
   "metadata": {},
   "outputs": [
    {
     "name": "stdout",
     "output_type": "stream",
     "text": [
      "[[-0.97402261  0.55474452 -0.79013516]\n",
      " [-1.05217581 -1.32803566  0.54712315]\n",
      " [-0.81190987 -0.90253204 -1.04754929]\n",
      " [-0.6584087  -0.97859245  1.59666312]\n",
      " [ 0.06996008  0.46057161 -1.4659863 ]] \n",
      "\n",
      "['Manzar' 'Zain' 'Ammar' 'Osama' 'Manzar'] \n",
      "\n",
      "[ True False False False  True] \n",
      "\n",
      "[[-0.97402261  0.55474452 -0.79013516]\n",
      " [ 0.06996008  0.46057161 -1.4659863 ]] \n",
      "\n",
      "[[-1.05217581 -1.32803566  0.54712315]\n",
      " [-0.81190987 -0.90253204 -1.04754929]\n",
      " [-0.6584087  -0.97859245  1.59666312]] \n",
      "\n",
      "['Ammar' 'Manzar' 'Osama' 'Zain']\n"
     ]
    }
   ],
   "source": [
    "# more features of numpy\n",
    "\n",
    "namesArr = np.array([\"Manzar\", \"Zain\", \"Ammar\", \"Osama\", \"Manzar\"])\n",
    "\n",
    "numArr = np.random.randn(5,3)\n",
    "\n",
    "print(numArr, '\\n')\n",
    "print(namesArr, '\\n')\n",
    "print(namesArr ==  \"Manzar\", '\\n')\n",
    "print(numArr[namesArr == \"Manzar\"], '\\n')\n",
    "print(numArr[~(namesArr == \"Manzar\")], '\\n')\n",
    "\n",
    "print(np.unique(namesArr)) # sorting and duplicate remove"
   ]
  },
  {
   "cell_type": "code",
   "execution_count": 45,
   "metadata": {},
   "outputs": [
    {
     "name": "stdout",
     "output_type": "stream",
     "text": [
      "[ 0.83514422 -0.48295627 -2.38021897  0.14395678] \n",
      "\n",
      "[ 0.83514422 -0.48295627 -2.38021897  0.14395678] \n",
      "\n",
      "[ 0.83514422 -0.48295627 -0.16541325  0.14395678] \n",
      "\n",
      "[ 0.20951316 -0.57141806 -2.38021897 -0.21822376] \n",
      "\n"
     ]
    }
   ],
   "source": [
    "# functionality in numpy\n",
    "\n",
    "arr = np.random.randn(4)\n",
    "print(arr , '\\n')\n",
    "\n",
    "arr2 = np.random.randn(4)\n",
    "print(arr , '\\n')\n",
    "\n",
    "print(np.maximum(arr,arr2), '\\n')\n",
    "print(np.minimum(arr,arr2), '\\n')"
   ]
  },
  {
   "cell_type": "code",
   "execution_count": null,
   "metadata": {},
   "outputs": [],
   "source": []
  },
  {
   "cell_type": "code",
   "execution_count": null,
   "metadata": {},
   "outputs": [],
   "source": []
  }
 ],
 "metadata": {
  "kernelspec": {
   "display_name": "Python 3",
   "language": "python",
   "name": "python3"
  },
  "language_info": {
   "codemirror_mode": {
    "name": "ipython",
    "version": 3
   },
   "file_extension": ".py",
   "mimetype": "text/x-python",
   "name": "python",
   "nbconvert_exporter": "python",
   "pygments_lexer": "ipython3",
   "version": "3.7.4"
  }
 },
 "nbformat": 4,
 "nbformat_minor": 2
}

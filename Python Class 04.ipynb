{
 "cells": [
  {
   "cell_type": "markdown",
   "metadata": {},
   "source": [
    "#  Python Class 04"
   ]
  },
  {
   "cell_type": "code",
   "execution_count": 1,
   "metadata": {},
   "outputs": [
    {
     "name": "stdout",
     "output_type": "stream",
     "text": [
      "what is country name?\n"
     ]
    }
   ],
   "source": [
    "# dictionaries in list\n",
    "\n",
    "questions = [\n",
    "    {\n",
    "        \"S. no\" : 1,\n",
    "        \"question\" : \"what is country name?\",\n",
    "        \"options\" : [\"Pakistan\",\"USA\",\"Africa\",\"UAE\"],\n",
    "        \"answer\" : \"Pakistan\"\n",
    "    },\n",
    "    {\n",
    "        \"S. no\" : 1,\n",
    "        \"question\" : \"what is country name?\",\n",
    "        \"options\" : [\"Pakistan\",\"USA\",\"Africa\",\"UAE\"],\n",
    "        \"answer\" : \"Pakistan\"\n",
    "    },\n",
    "    {\n",
    "        \"S. no\" : 1,\n",
    "        \"question\" : \"what is country name?\",\n",
    "        \"options\" : [\"Pakistan\",\"USA\",\"Africa\",\"UAE\"],\n",
    "        \"answer\" : \"Pakistan\"\n",
    "    },\n",
    "]\n",
    "\n",
    "print(questions[0][\"question\"])"
   ]
  },
  {
   "cell_type": "code",
   "execution_count": 2,
   "metadata": {},
   "outputs": [
    {
     "name": "stdout",
     "output_type": "stream",
     "text": [
      "[{'S. no': 1, 'question': 'what is country name?', 'options': ['Pakistan', 'USA', 'Africa', 'UAE'], 'answer': 'Pakistan'}, {'S. no': 2, 'question': 'what is country name?', 'options': ['Pakistan', 'USA', 'Africa', 'UAE'], 'answer': 'Pakistan'}, {'S. no': 3, 'question': 'what is country name?', 'options': ['Pakistan', 'USA', 'Africa', 'UAE'], 'answer': 'Pakistan'}, {'S. no': 4, 'question': 'what is country name?', 'options': ['Pakistan', 'USA', 'Africa', 'UAE'], 'answer': 'Pakistan'}]\n"
     ]
    }
   ],
   "source": [
    "# dictionaries in dictionary\n",
    "\n",
    "questions = [\n",
    "    {\n",
    "        \"S. no\" : 1,\n",
    "        \"question\" : \"what is country name?\",\n",
    "        \"options\" : [\"Pakistan\",\"USA\",\"Africa\",\"UAE\"],\n",
    "        \"answer\" : \"Pakistan\"\n",
    "    },\n",
    "    {\n",
    "        \"S. no\" : 2,\n",
    "        \"question\" : \"what is country name?\",\n",
    "        \"options\" : [\"Pakistan\",\"USA\",\"Africa\",\"UAE\"],\n",
    "        \"answer\" : \"Pakistan\"\n",
    "    },\n",
    "    {\n",
    "        \"S. no\" : 3,\n",
    "        \"question\" : \"what is country name?\",\n",
    "        \"options\" : [\"Pakistan\",\"USA\",\"Africa\",\"UAE\"],\n",
    "        \"answer\" : \"Pakistan\"\n",
    "    },\n",
    "]\n",
    "\n",
    "new_question = {\n",
    "        \"S. no\" : 4,\n",
    "        \"question\" : \"what is country name?\",\n",
    "        \"options\" : [\"Pakistan\",\"USA\",\"Africa\",\"UAE\"],\n",
    "        \"answer\" : \"Pakistan\"\n",
    "    }\n",
    "\n",
    "questions.append(new_question)\n",
    "\n",
    "print(questions)"
   ]
  },
  {
   "cell_type": "code",
   "execution_count": 3,
   "metadata": {},
   "outputs": [
    {
     "name": "stdout",
     "output_type": "stream",
     "text": [
      "{'S. no': 4, 'question': 'what is the name of Capital of Pakistan?', 'options': ['Pakistan', 'USA', 'Africa', 'UAE'], 'answer': 'Pakistan'}\n"
     ]
    }
   ],
   "source": [
    "# Add dictionary in list (list that contains dictionaries)\n",
    "\n",
    "questions = [\n",
    "    {\n",
    "        \"S. no\" : 1,\n",
    "        \"question\" : \"what is country name?\",\n",
    "        \"options\" : [\"Pakistan\",\"USA\",\"Africa\",\"UAE\"],\n",
    "        \"answer\" : \"Pakistan\"\n",
    "    },\n",
    "    {\n",
    "        \"S. no\" : 2,\n",
    "        \"question\" : \"what is city name?\",\n",
    "        \"options\" : [\"Pakistan\",\"USA\",\"Africa\",\"UAE\"],\n",
    "        \"answer\" : \"Pakistan\"\n",
    "    },\n",
    "    {\n",
    "        \"S. no\" : 3,\n",
    "        \"question\" : \"what is the name of the capital of USA?\",\n",
    "        \"options\" : [\"Pakistan\",\"USA\",\"Africa\",\"UAE\"],\n",
    "        \"answer\" : \"Pakistan\"\n",
    "    },\n",
    "]\n",
    "\n",
    "new_question = {\n",
    "        \"S. no\" : 4,\n",
    "        \"question\" : \"what is the name of Capital of Pakistan?\",\n",
    "        \"options\" : [\"Pakistan\",\"USA\",\"Africa\",\"UAE\"],\n",
    "        \"answer\" : \"Pakistan\"\n",
    "    }\n",
    "\n",
    "questions.append(new_question)\n",
    "\n",
    "print(questions[3])"
   ]
  },
  {
   "cell_type": "code",
   "execution_count": 4,
   "metadata": {},
   "outputs": [
    {
     "name": "stdout",
     "output_type": "stream",
     "text": [
      "what is the name of Capital of Pakistan?\n"
     ]
    }
   ],
   "source": [
    "# Call out question only\n",
    "\n",
    "questions = [\n",
    "    {\n",
    "        \"S. no\" : 1,\n",
    "        \"question\" : \"what is country name?\",\n",
    "        \"options\" : [\"Pakistan\",\"USA\",\"Africa\",\"UAE\"],\n",
    "        \"answer\" : \"Pakistan\"\n",
    "    },\n",
    "    {\n",
    "        \"S. no\" : 2,\n",
    "        \"question\" : \"what is city name?\",\n",
    "        \"options\" : [\"Pakistan\",\"USA\",\"Africa\",\"UAE\"],\n",
    "        \"answer\" : \"Pakistan\"\n",
    "    },\n",
    "    {\n",
    "        \"S. no\" : 3,\n",
    "        \"question\" : \"what is the name of the capital of USA?\",\n",
    "        \"options\" : [\"Pakistan\",\"USA\",\"Africa\",\"UAE\"],\n",
    "        \"answer\" : \"Pakistan\"\n",
    "    },\n",
    "]\n",
    "\n",
    "new_question = {\n",
    "        \"S. no\" : 4,\n",
    "        \"question\" : \"what is the name of Capital of Pakistan?\",\n",
    "        \"options\" : [\"Pakistan\",\"USA\",\"Africa\",\"UAE\"],\n",
    "        \"answer\" : \"Pakistan\"\n",
    "    }\n",
    "\n",
    "questions.append(new_question)\n",
    "\n",
    "print(questions[3][\"question\"])"
   ]
  },
  {
   "cell_type": "code",
   "execution_count": 5,
   "metadata": {},
   "outputs": [
    {
     "name": "stdout",
     "output_type": "stream",
     "text": [
      "Pakistan\n"
     ]
    }
   ],
   "source": [
    "# call out one option only\n",
    "\n",
    "questions = [\n",
    "    {\n",
    "        \"S. no\" : 1,\n",
    "        \"question\" : \"what is country name?\",\n",
    "        \"options\" : [\"Pakistan\",\"USA\",\"Africa\",\"UAE\"],\n",
    "        \"answer\" : \"Pakistan\"\n",
    "    },\n",
    "    {\n",
    "        \"S. no\" : 2,\n",
    "        \"question\" : \"what is city name?\",\n",
    "        \"options\" : [\"Pakistan\",\"USA\",\"Africa\",\"UAE\"],\n",
    "        \"answer\" : \"Pakistan\"\n",
    "    },\n",
    "    {\n",
    "        \"S. no\" : 3,\n",
    "        \"question\" : \"what is the name of the capital of USA?\",\n",
    "        \"options\" : [\"Pakistan\",\"USA\",\"Africa\",\"UAE\"],\n",
    "        \"answer\" : \"Pakistan\"\n",
    "    },\n",
    "]\n",
    "\n",
    "new_question = {\n",
    "        \"S. no\" : 4,\n",
    "        \"question\" : \"what is the name of Capital of Pakistan?\",\n",
    "        \"options\" : [\"Pakistan\",\"USA\",\"Africa\",\"UAE\"],\n",
    "        \"answer\" : \"Pakistan\"\n",
    "    }\n",
    "\n",
    "questions.append(new_question)\n",
    "\n",
    "print(questions[3][\"options\"][0])"
   ]
  },
  {
   "cell_type": "code",
   "execution_count": 6,
   "metadata": {},
   "outputs": [
    {
     "name": "stdout",
     "output_type": "stream",
     "text": [
      "[{'S. no': 1, 'question': 'what is country name?', 'options': ['Pakistan', 'USA', 'Africa', 'UAE'], 'answer': 'Pakistan'}, {'S. no': 2, 'question': 'what is city name?', 'options': ['Pakistan', 'USA', 'Africa', 'UAE'], 'answer': 'Pakistan'}, {'S. no': 4, 'question': 'what is the name of Capital of Pakistan?', 'options': ['Pakistan', 'USA', 'Africa', 'UAE'], 'answer': 'Pakistan'}, {'S. no': 3, 'question': 'what is the name of the capital of USA?', 'options': ['Pakistan', 'USA', 'Africa', 'UAE'], 'answer': 'Pakistan'}, {'S. no': 4, 'question': 'what is the name of Capital of Pakistan?', 'options': ['Pakistan', 'USA', 'Africa', 'UAE'], 'answer': 'Pakistan'}]\n"
     ]
    }
   ],
   "source": [
    "# insert dictionary in desired index number\n",
    "\n",
    "questions = [\n",
    "    {\n",
    "        \"S. no\" : 1,\n",
    "        \"question\" : \"what is country name?\",\n",
    "        \"options\" : [\"Pakistan\",\"USA\",\"Africa\",\"UAE\"],\n",
    "        \"answer\" : \"Pakistan\"\n",
    "    },\n",
    "    {\n",
    "        \"S. no\" : 2,\n",
    "        \"question\" : \"what is city name?\",\n",
    "        \"options\" : [\"Pakistan\",\"USA\",\"Africa\",\"UAE\"],\n",
    "        \"answer\" : \"Pakistan\"\n",
    "    },\n",
    "    {\n",
    "        \"S. no\" : 3,\n",
    "        \"question\" : \"what is the name of the capital of USA?\",\n",
    "        \"options\" : [\"Pakistan\",\"USA\",\"Africa\",\"UAE\"],\n",
    "        \"answer\" : \"Pakistan\"\n",
    "    },\n",
    "]\n",
    "\n",
    "new_question = {\n",
    "        \"S. no\" : 4,\n",
    "        \"question\" : \"what is the name of Capital of Pakistan?\",\n",
    "        \"options\" : [\"Pakistan\",\"USA\",\"Africa\",\"UAE\"],\n",
    "        \"answer\" : \"Pakistan\"\n",
    "    }\n",
    "\n",
    "questions.append(new_question)\n",
    "questions.insert(2,new_question)\n",
    "\n",
    "print(questions)"
   ]
  },
  {
   "cell_type": "code",
   "execution_count": 7,
   "metadata": {},
   "outputs": [
    {
     "name": "stdout",
     "output_type": "stream",
     "text": [
      "USA\n"
     ]
    }
   ],
   "source": [
    "# show desired option \n",
    "\n",
    "questions = [\n",
    "    {\n",
    "        \"S. no\" : 1,\n",
    "        \"question\" : \"what is country name?\",\n",
    "        \"options\" : [\"Pakistan\",\"USA\",\"Africa\",\"UAE\"],\n",
    "        \"answer\" : \"Pakistan\"\n",
    "    },\n",
    "    {\n",
    "        \"S. no\" : 2,\n",
    "        \"question\" : \"what is city name?\",\n",
    "        \"options\" : [\"Pakistan\",\"USA\",\"Africa\",\"UAE\"],\n",
    "        \"answer\" : \"Pakistan\"\n",
    "    },\n",
    "    {\n",
    "        \"S. no\" : 3,\n",
    "        \"question\" : \"what is the name of the capital of USA?\",\n",
    "        \"options\" : [\"Pakistan\",\"USA\",\"Africa\",\"UAE\"],\n",
    "        \"answer\" : \"Pakistan\"\n",
    "    },\n",
    "]\n",
    "\n",
    "new_question = {\n",
    "        \"S. no\" : 4,\n",
    "        \"question\" : \"what is the name of Capital of Pakistan?\",\n",
    "        \"options\" : [\"Pakistan\",\"USA\",\"Africa\",\"UAE\"],\n",
    "        \"answer\" : \"Pakistan\"\n",
    "    }\n",
    "\n",
    "questions.append(new_question)\n",
    "questions.insert(2,new_question)\n",
    "\n",
    "print(questions[0][\"options\"][1])"
   ]
  },
  {
   "cell_type": "code",
   "execution_count": 8,
   "metadata": {},
   "outputs": [
    {
     "name": "stdout",
     "output_type": "stream",
     "text": [
      "{0: {'name': 'Manzar', 'fName': 'Khoursheed', 'age': 20}, 1: {'name': 'Osama', 'fName': 'Saleem', 'age': 22}}\n"
     ]
    }
   ],
   "source": [
    "# dictionaries in dictionary\n",
    "\n",
    "students = {\n",
    "    0: {\n",
    "        \"name\" : \"Manzar\",\n",
    "        \"fName\" : \"Khoursheed\",\n",
    "        \"age\" : 20\n",
    "    },\n",
    "    1: {\n",
    "        \"name\" : \"Osama\",\n",
    "        \"fName\" : \"Saleem\",\n",
    "        \"age\" : 22\n",
    "    } \n",
    "}\n",
    "print(students)"
   ]
  },
  {
   "cell_type": "code",
   "execution_count": 9,
   "metadata": {},
   "outputs": [
    {
     "name": "stdout",
     "output_type": "stream",
     "text": [
      "{'name': 'Manzar', 'fName': 'Khoursheed', 'age': 20}\n"
     ]
    }
   ],
   "source": [
    "# print desired dictionary\n",
    "\n",
    "students = {\n",
    "    0: {\n",
    "        \"name\" : \"Manzar\",\n",
    "        \"fName\" : \"Khoursheed\",\n",
    "        \"age\" : 20\n",
    "    },\n",
    "    1: {\n",
    "        \"name\" : \"Osama\",\n",
    "        \"fName\" : \"Saleem\",\n",
    "        \"age\" : 22\n",
    "    } \n",
    "}\n",
    "print(students[0])"
   ]
  },
  {
   "cell_type": "code",
   "execution_count": 10,
   "metadata": {},
   "outputs": [
    {
     "name": "stdout",
     "output_type": "stream",
     "text": [
      "Manzar\n"
     ]
    }
   ],
   "source": [
    "# print any desired keys and value\n",
    "\n",
    "students = {\n",
    "    0: {\n",
    "        \"name\" : \"Manzar\",\n",
    "        \"fName\" : \"Khoursheed\",\n",
    "        \"age\" : 20\n",
    "    },\n",
    "    1: {\n",
    "        \"name\" : \"Osama\",\n",
    "        \"fName\" : \"Saleem\",\n",
    "        \"age\" : 22\n",
    "    } \n",
    "}\n",
    "print(students[0][\"name\"])"
   ]
  },
  {
   "cell_type": "code",
   "execution_count": 12,
   "metadata": {},
   "outputs": [
    {
     "name": "stdout",
     "output_type": "stream",
     "text": [
      "1: what is your country name?\n",
      " please write correct answer in input field \n",
      "Pakistan\n",
      "USA\n",
      "Africa\n",
      "UAE\n",
      "Pakistan\n",
      "2: what is your city name?\n",
      " please write correct answer in input field \n",
      "Islamabad\n",
      "Karachi\n",
      "Lahore\n",
      "Faislabad\n",
      "Karachi\n",
      "3: what is the capital of Pakistan?\n",
      " please write correct answer in input field \n",
      "Islamabad\n",
      "Multan\n",
      "Peshawar\n",
      "Quetta\n",
      "Islamabad\n",
      "Your score is: 3\n"
     ]
    }
   ],
   "source": [
    "# Quiz application\n",
    "\n",
    "questions = [\n",
    "    {\n",
    "        \"S no.\" : 1,\n",
    "        \"question\" : \"what is your country name?\",\n",
    "        \"options\" : [\"Pakistan\",\"USA\",\"Africa\",\"UAE\"],\n",
    "        \"answer\" : \"Pakistan\"\n",
    "    },\n",
    "    {\n",
    "        \"S no.\" : 2,\n",
    "        \"question\" : \"what is your city name?\",\n",
    "        \"options\" : [\"Islamabad\",\"Karachi\",\"Lahore\",\"Faislabad\"],\n",
    "        \"answer\" : \"Karachi\"\n",
    "    },\n",
    "    {\n",
    "        \"S no.\" : 3,\n",
    "        \"question\" : \"what is the capital of Pakistan?\",\n",
    "        \"options\" : [\"Islamabad\",\"Multan\",\"Peshawar\",\"Quetta\"],\n",
    "        \"answer\" : \"Islamabad\"\n",
    "    }\n",
    "]\n",
    "\n",
    "score = 0\n",
    "\n",
    "for question in questions:\n",
    "    data = str(question[\"S no.\"]) + \": \" + question[\"question\"] + \"\\n please write correct answer in input field \\n\" + question[\"options\"][0] + \"\\n\" + question[\"options\"][1] + \"\\n\" + question[\"options\"][2] + \"\\n\" + question[\"options\"][3] + \"\\n\"\n",
    "    answer = input(data)\n",
    "    if answer == question[\"answer\"]:\n",
    "        score += 1\n",
    "print(\"Your score is: \" + str(score))"
   ]
  },
  {
   "cell_type": "code",
   "execution_count": 13,
   "metadata": {},
   "outputs": [
    {
     "name": "stdout",
     "output_type": "stream",
     "text": [
      "15\n",
      "15\n",
      "15\n"
     ]
    }
   ],
   "source": [
    "# Function\n",
    "\n",
    "def addition():\n",
    "    num_1 = 5\n",
    "    num_2 = 10\n",
    "    total = num_1 + num_2\n",
    "    print(total)\n",
    "\n",
    "addition()\n",
    "addition()\n",
    "addition()"
   ]
  },
  {
   "cell_type": "code",
   "execution_count": 14,
   "metadata": {},
   "outputs": [
    {
     "name": "stdout",
     "output_type": "stream",
     "text": [
      "15\n"
     ]
    }
   ],
   "source": [
    "# Calling function\n",
    "\n",
    "addition()"
   ]
  },
  {
   "cell_type": "code",
   "execution_count": 15,
   "metadata": {},
   "outputs": [
    {
     "name": "stdout",
     "output_type": "stream",
     "text": [
      "29\n"
     ]
    }
   ],
   "source": [
    "# passing arguments in the function and then function catch it as a paramater\n",
    "\n",
    "def addition(a,b):\n",
    "    total = a + b\n",
    "    print(total)\n",
    "\n",
    "addition(10,19)"
   ]
  },
  {
   "cell_type": "code",
   "execution_count": 16,
   "metadata": {},
   "outputs": [
    {
     "name": "stdout",
     "output_type": "stream",
     "text": [
      "55\n"
     ]
    }
   ],
   "source": [
    "# passing values as a parameter\n",
    "\n",
    "def addition(a,b):\n",
    "    total = a + b\n",
    "    print(total)\n",
    "addition(10,45)"
   ]
  },
  {
   "cell_type": "code",
   "execution_count": 17,
   "metadata": {},
   "outputs": [
    {
     "name": "stdout",
     "output_type": "stream",
     "text": [
      "61\n"
     ]
    }
   ],
   "source": [
    "# passing 3 parameters\n",
    "\n",
    "def addition(a,b,c):\n",
    "    total = a + b + c\n",
    "    print(total)\n",
    "addition(10,45,6)"
   ]
  },
  {
   "cell_type": "code",
   "execution_count": 18,
   "metadata": {},
   "outputs": [
    {
     "name": "stdout",
     "output_type": "stream",
     "text": [
      "Manzar Alam\n"
     ]
    }
   ],
   "source": [
    "# Passing arguments\n",
    "\n",
    "def full_name(first_name, last_name):\n",
    "    complete_name = first_name + \" \" + last_name\n",
    "    print(complete_name)\n",
    "    \n",
    "full_name(\"Manzar\", \"Alam\")"
   ]
  },
  {
   "cell_type": "code",
   "execution_count": 19,
   "metadata": {},
   "outputs": [
    {
     "name": "stdout",
     "output_type": "stream",
     "text": [
      "Alam Manzar\n"
     ]
    }
   ],
   "source": [
    "# positional arguments\n",
    "\n",
    "def full_name(last_name, first_name):\n",
    "    complete_name = first_name + \" \" + last_name\n",
    "    print(complete_name)\n",
    "    \n",
    "full_name(\"Manzar\", \"Alam\")"
   ]
  },
  {
   "cell_type": "code",
   "execution_count": 20,
   "metadata": {},
   "outputs": [
    {
     "name": "stdout",
     "output_type": "stream",
     "text": [
      "Manzar Alam\n"
     ]
    }
   ],
   "source": [
    "# keyword argument basically use for removing positional arguments\n",
    "\n",
    "def full_name(last_name, first_name):\n",
    "    complete_name = first_name + \" \" + last_name\n",
    "    print(complete_name)\n",
    "    \n",
    "full_name(first_name = \"Manzar\", last_name = \"Alam\")"
   ]
  },
  {
   "cell_type": "code",
   "execution_count": 21,
   "metadata": {},
   "outputs": [
    {
     "name": "stdout",
     "output_type": "stream",
     "text": [
      "Manzar Alam\n"
     ]
    }
   ],
   "source": [
    "# keyword argument\n",
    "\n",
    "def full_name(last_name = \"Alam\", first_name = \"Manzar\"):\n",
    "    complete_name = first_name + \" \" + last_name\n",
    "    print(complete_name)\n",
    "    \n",
    "full_name()"
   ]
  },
  {
   "cell_type": "code",
   "execution_count": null,
   "metadata": {},
   "outputs": [],
   "source": []
  }
 ],
 "metadata": {
  "kernelspec": {
   "display_name": "Python 3",
   "language": "python",
   "name": "python3"
  },
  "language_info": {
   "codemirror_mode": {
    "name": "ipython",
    "version": 3
   },
   "file_extension": ".py",
   "mimetype": "text/x-python",
   "name": "python",
   "nbconvert_exporter": "python",
   "pygments_lexer": "ipython3",
   "version": "3.7.4"
  }
 },
 "nbformat": 4,
 "nbformat_minor": 2
}
